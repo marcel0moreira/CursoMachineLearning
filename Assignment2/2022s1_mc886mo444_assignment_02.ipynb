{
  "nbformat": 4,
  "nbformat_minor": 0,
  "metadata": {
    "colab": {
      "provenance": []
    },
    "kernelspec": {
      "name": "python3",
      "display_name": "Python 3"
    }
  },
  "cells": [
    {
      "cell_type": "markdown",
      "metadata": {
        "id": "Cs9E_R5yD48u"
      },
      "source": [
        "# **Tarefa \\#2**: Machine Learning MC886/MO444\n",
        "##**Regressão Linear**##\n",
        "\n",
        "Universidade Estadual de Campinas (Unicamp)\n",
        "\n",
        "Instituto de Computação (IC)\n",
        "\n",
        "Prof. Marcelo Reis\n",
        "\n"
      ]
    },
    {
      "cell_type": "code",
      "metadata": {
        "id": "tFS9Oum_RJX9",
        "colab": {
          "base_uri": "https://localhost:8080/"
        },
        "outputId": "7e22a4c5-84e0-4258-bbdd-2d77a391f078"
      },
      "source": [
        "# TODO: RA & Name \n",
        "print('RA1: 220102 ' + 'André Luiz do Canto Portela')\n",
        "print('RA2: 183298 ' + 'Marcelo Aparecido Moreira')"
      ],
      "execution_count": null,
      "outputs": [
        {
          "output_type": "stream",
          "name": "stdout",
          "text": [
            "RA1: 220102 André Luiz do Canto Portela\n",
            "RA2: 183298 Marcelo Aparecido Moreira\n"
          ]
        }
      ]
    },
    {
      "cell_type": "markdown",
      "metadata": {
        "id": "IVGH2s7fD_03"
      },
      "source": [
        "## Objective: Predict life expectancy. \n",
        "\n",
        "Explore **linear regression** alternatives and come up with the best possible model to the problems, avoiding overfitting. In particular, predict the **Life expectancy** from their attributes."
      ]
    },
    {
      "cell_type": "markdown",
      "metadata": {
        "id": "r3XDZRGqEwsk"
      },
      "source": [
        "## Dataset\n",
        "\n",
        "The purpose of this dataset is to do health data analysis. The dataset related to life expectancy, health factors for 193 countries was collected from the same WHO data repository website and their corresponding economic data were collected from the United Nations website. Among all categories of health-related factors, only the critical factors that are most representative were chosen. All predictor variables were then divided into several broad categories: Immunization-related factors, Mortality factors, Economic factors, and Social factors.\n",
        "\n",
        "Dataset Information: You should respect the following traininig/test split: 2056 training examples, and 882 test examples.\n",
        "\n",
        "There are 22 attributes as follows: \n",
        "\n",
        "Data Dictionary\n",
        "\n",
        "- Country\t\n",
        "- Year\t\n",
        "- Status\t\t\n",
        "- Adult Mortality\t\n",
        "- infant deaths\t\n",
        "- Alcohol\t\n",
        "- percentage expenditure\t\n",
        "- Hepatitis B\t\n",
        "- Measles\t\n",
        "- BMI\t\n",
        "- under-five deaths\t\n",
        "- Polio\t\n",
        "- Total \n",
        "- expenditure\t\n",
        "- Diphtheria\t\n",
        "- HIV/AIDS\t\n",
        "- GDP\t\n",
        "- Population\t\n",
        "- thinness  1-19 years\t\n",
        "- thinness 5-9 years\t\n",
        "- Income composition of resources\tSchooling\n",
        "\n",
        "- **Life expectancy**\n",
        "\n",
        "\n",
        "The data is available at\n",
        "- train: https://tinyurl.com/5374623f\n",
        "- test: https://tinyurl.com/mtdkjf55\n"
      ]
    },
    {
      "cell_type": "markdown",
      "metadata": {
        "id": "5d495CmpCltx"
      },
      "source": [
        "## Atividades\n",
        "\n",
        "1. (5 pontos) Faça a Regressão Linear. Você deve implementar a sua própria solução e comparar com ```sklearn.linear_model.SGDRegressor``` (modelo linear calculado com gradiente descendente estocástico da biblioteca [scikit-learn](http://scikit-learn.org)).\n",
        "Não esqueça que o conjunto de testes NÃO deve ser utilizado para o **treinamento** do modelo.\n",
        "\n",
        "**Dica: Verifique o conjunto de dados. Existem outliers? Estão faltando valores em alguns campos? Como utilizar variáveis categóricas?**\n"
      ]
    },
    {
      "cell_type": "code",
      "metadata": {
        "id": "3y0QxxH1KgE1"
      },
      "source": [
        "# Importação de bibliotecas\n",
        "\n",
        "import numpy as np\n",
        "import pandas as pd\n",
        "import matplotlib.pyplot as plt\n",
        "from sklearn.utils import shuffle\n",
        "from sklearn import preprocessing\n",
        "import seaborn as sns\n",
        "%matplotlib inline"
      ],
      "execution_count": null,
      "outputs": []
    },
    {
      "cell_type": "markdown",
      "source": [
        "## **I) Pré-processamento dos dados**\n",
        "\n",
        "Primeiramente, faremos um tratamento das bases de dados, preparando-as para a utilização nos algoritmos. Essa é uma etapa crucial do *pipeline* de aprendizado de máquina, pois irá refletir diretamente nos resultados que visamos obter. Um tratamento adequado dos nossos datasets irá ditar a performance dos algoritmos, facilitando, por exemplo, a convergência. Além disso, tende a fazer com que a nossa hipótese (a princípio, um modelo linear), caso explique razoavelmente bem o problema, consiga uma melhor aderência aos dados, evitando transtornos como *underfiting* durante o treinamento.  \n"
      ],
      "metadata": {
        "id": "oiNKHbERaLb0"
      }
    },
    {
      "cell_type": "markdown",
      "source": [
        "Queremos, ao fim do tratamento, agrupar os dados nos conjuntos da célula abaixo, que por enquanto serão inicializados como nulos."
      ],
      "metadata": {
        "id": "Cxyoyt4ngBYE"
      }
    },
    {
      "cell_type": "code",
      "source": [
        "# TODO: Separe o conjunto de dados em treino (X_train, y_train) e teste (X_test, y_test).\n",
        "#       Faça o pré-processamento dos dados: Normalização, limpeza de dados, variáveis categóricas\n",
        "#       Substitua o conjunto de dados nas variáveis abaixo\n",
        "\n",
        "X_train = None\n",
        "y_train = None\n",
        "X_test = None\n",
        "y_test = None"
      ],
      "metadata": {
        "id": "gcdRTD4pajhb"
      },
      "execution_count": null,
      "outputs": []
    },
    {
      "cell_type": "markdown",
      "source": [
        "O primeiro passo é fazer a leitura dos datasets, que estão armazenados em planilhas do *Google Sheets*. Eles serão copiados para dataframes do *pandas*."
      ],
      "metadata": {
        "id": "4IRV9PSKkaqr"
      }
    },
    {
      "cell_type": "code",
      "source": [
        "# Leitura das bases de dados\n",
        "\n",
        "training_sheet_id = \"1ejB4RtHX6ma0XK51I6f_7AtDblKivlOtzSkxitdZYtA\" \n",
        "testing_sheet_id = \"1PrY9blDscKw5gWTyA3S34Gj3H5rRpuUU_b9rhVFsPQc\"\n",
        "\n",
        "url = \"https://docs.google.com/spreadsheets/d/{}/gviz/tq?tqx=out:csv\" \n",
        "\n",
        "training_df = pd.read_csv(url.format(training_sheet_id)) # conjunto de treinamento\n",
        "testing_df = pd.read_csv(url.format(testing_sheet_id)) # conjunto de teste\n"
      ],
      "metadata": {
        "id": "pDCb2_eq78G6"
      },
      "execution_count": null,
      "outputs": []
    },
    {
      "cell_type": "markdown",
      "source": [
        "Vamos verificar as dimensões desses datasets."
      ],
      "metadata": {
        "id": "lAx0aHIRk2_N"
      }
    },
    {
      "cell_type": "code",
      "source": [
        "# Shape dos datasets de treino e teste\n",
        "\n",
        "initial_training_df_shape = training_df.shape\n",
        "initial_testing_df_shape = testing_df.shape\n",
        "\n",
        "(\n",
        "  'Dataset de treino inicial',\n",
        "  initial_training_df_shape,\n",
        "  'Dataset de teste inicial',\n",
        "  initial_testing_df_shape\n",
        ")"
      ],
      "metadata": {
        "colab": {
          "base_uri": "https://localhost:8080/"
        },
        "id": "FQFQHSZH8Tbk",
        "outputId": "bf67d100-f4b9-4a20-f296-737c8fb6db37"
      },
      "execution_count": null,
      "outputs": [
        {
          "output_type": "execute_result",
          "data": {
            "text/plain": [
              "('Dataset de treino inicial',\n",
              " (2056, 22),\n",
              " 'Dataset de teste inicial',\n",
              " (882, 22))"
            ]
          },
          "metadata": {},
          "execution_count": 5
        }
      ]
    },
    {
      "cell_type": "markdown",
      "source": [
        "Temos, inicialmente, 2056 *samples* no dataset de treino e 882 no dataset de teste.\n",
        "O número de colunas é 22, onde 21 são *features* e 1 é a variável dependente que deverá ser predita."
      ],
      "metadata": {
        "id": "EqzlysjPjU24"
      }
    },
    {
      "cell_type": "markdown",
      "source": [
        "Visualizemos os datasets para ter insights sobre algumas variáveis:\n",
        "\n",
        "*   Formatos\n",
        "*   Dados faltantes (*missing values*)\n",
        "*   Variáveis categóricas e quantitativas\n",
        "*   Etc\n",
        "\n"
      ],
      "metadata": {
        "id": "orcIn2vblAkw"
      }
    },
    {
      "cell_type": "code",
      "source": [
        "training_df.head()"
      ],
      "metadata": {
        "colab": {
          "base_uri": "https://localhost:8080/",
          "height": 386
        },
        "id": "Y6HkdI1x8B-0",
        "outputId": "bdeeb2f3-c710-4719-d7e8-487ccbfe06ae"
      },
      "execution_count": null,
      "outputs": [
        {
          "output_type": "execute_result",
          "data": {
            "text/plain": [
              "         Country  Year      Status  Life expectancy  Adult Mortality  \\\n",
              "0          Malta  2008   Developed             80.0             64.0   \n",
              "1          Congo  2005  Developing             55.3            394.0   \n",
              "2   Burkina Faso  2009  Developing             56.9            283.0   \n",
              "3  Guinea-Bissau  2011  Developing             57.1            289.0   \n",
              "4        Myanmar  2007  Developing             64.5            217.0   \n",
              "\n",
              "   infant deaths  Alcohol percentage expenditure  Hepatitis B  Measles  ...  \\\n",
              "0              0     7.14          2.655.573.684         86.0        1  ...   \n",
              "1              8     2.03                      0          NaN      146  ...   \n",
              "2             44     4.55          8.114.304.705         92.0    54118  ...   \n",
              "3              4     3.57          4.045.367.358         86.0        0  ...   \n",
              "4             58     0.26              5.305.728         85.0     1088  ...   \n",
              "\n",
              "   Polio  Total expenditure  Diphtheria  HIV/AIDS            GDP  Population  \\\n",
              "0   72.0               8.15        72.0       0.1     21.928.767     49379.0   \n",
              "1   62.0               2.42        62.0       5.9            NaN         NaN   \n",
              "2   91.0               7.41        92.0       1.1  5.527.455.521   1514199.0   \n",
              "3   85.0               5.46        86.0       5.7     69.269.989   1596154.0   \n",
              "4   84.0               1.68        86.0       0.6         41.451  49171586.0   \n",
              "\n",
              "  thinness  1-19 years  thinness 5-9 years  Income composition of resources  \\\n",
              "0                  NaN                 NaN                           813.00   \n",
              "1                  8.8                 8.5                           496.00   \n",
              "2                  9.3                 8.8                           356.00   \n",
              "3                  7.8                 7.7                             0.41   \n",
              "4                 13.2                13.5                           484.00   \n",
              "\n",
              "   Schooling  \n",
              "0       14.6  \n",
              "1        9.4  \n",
              "2        5.9  \n",
              "3        NaN  \n",
              "4        8.1  \n",
              "\n",
              "[5 rows x 22 columns]"
            ],
            "text/html": [
              "\n",
              "  <div id=\"df-a6a965b1-11d1-4231-ab52-b79cf9f6c7ea\">\n",
              "    <div class=\"colab-df-container\">\n",
              "      <div>\n",
              "<style scoped>\n",
              "    .dataframe tbody tr th:only-of-type {\n",
              "        vertical-align: middle;\n",
              "    }\n",
              "\n",
              "    .dataframe tbody tr th {\n",
              "        vertical-align: top;\n",
              "    }\n",
              "\n",
              "    .dataframe thead th {\n",
              "        text-align: right;\n",
              "    }\n",
              "</style>\n",
              "<table border=\"1\" class=\"dataframe\">\n",
              "  <thead>\n",
              "    <tr style=\"text-align: right;\">\n",
              "      <th></th>\n",
              "      <th>Country</th>\n",
              "      <th>Year</th>\n",
              "      <th>Status</th>\n",
              "      <th>Life expectancy</th>\n",
              "      <th>Adult Mortality</th>\n",
              "      <th>infant deaths</th>\n",
              "      <th>Alcohol</th>\n",
              "      <th>percentage expenditure</th>\n",
              "      <th>Hepatitis B</th>\n",
              "      <th>Measles</th>\n",
              "      <th>...</th>\n",
              "      <th>Polio</th>\n",
              "      <th>Total expenditure</th>\n",
              "      <th>Diphtheria</th>\n",
              "      <th>HIV/AIDS</th>\n",
              "      <th>GDP</th>\n",
              "      <th>Population</th>\n",
              "      <th>thinness  1-19 years</th>\n",
              "      <th>thinness 5-9 years</th>\n",
              "      <th>Income composition of resources</th>\n",
              "      <th>Schooling</th>\n",
              "    </tr>\n",
              "  </thead>\n",
              "  <tbody>\n",
              "    <tr>\n",
              "      <th>0</th>\n",
              "      <td>Malta</td>\n",
              "      <td>2008</td>\n",
              "      <td>Developed</td>\n",
              "      <td>80.0</td>\n",
              "      <td>64.0</td>\n",
              "      <td>0</td>\n",
              "      <td>7.14</td>\n",
              "      <td>2.655.573.684</td>\n",
              "      <td>86.0</td>\n",
              "      <td>1</td>\n",
              "      <td>...</td>\n",
              "      <td>72.0</td>\n",
              "      <td>8.15</td>\n",
              "      <td>72.0</td>\n",
              "      <td>0.1</td>\n",
              "      <td>21.928.767</td>\n",
              "      <td>49379.0</td>\n",
              "      <td>NaN</td>\n",
              "      <td>NaN</td>\n",
              "      <td>813.00</td>\n",
              "      <td>14.6</td>\n",
              "    </tr>\n",
              "    <tr>\n",
              "      <th>1</th>\n",
              "      <td>Congo</td>\n",
              "      <td>2005</td>\n",
              "      <td>Developing</td>\n",
              "      <td>55.3</td>\n",
              "      <td>394.0</td>\n",
              "      <td>8</td>\n",
              "      <td>2.03</td>\n",
              "      <td>0</td>\n",
              "      <td>NaN</td>\n",
              "      <td>146</td>\n",
              "      <td>...</td>\n",
              "      <td>62.0</td>\n",
              "      <td>2.42</td>\n",
              "      <td>62.0</td>\n",
              "      <td>5.9</td>\n",
              "      <td>NaN</td>\n",
              "      <td>NaN</td>\n",
              "      <td>8.8</td>\n",
              "      <td>8.5</td>\n",
              "      <td>496.00</td>\n",
              "      <td>9.4</td>\n",
              "    </tr>\n",
              "    <tr>\n",
              "      <th>2</th>\n",
              "      <td>Burkina Faso</td>\n",
              "      <td>2009</td>\n",
              "      <td>Developing</td>\n",
              "      <td>56.9</td>\n",
              "      <td>283.0</td>\n",
              "      <td>44</td>\n",
              "      <td>4.55</td>\n",
              "      <td>8.114.304.705</td>\n",
              "      <td>92.0</td>\n",
              "      <td>54118</td>\n",
              "      <td>...</td>\n",
              "      <td>91.0</td>\n",
              "      <td>7.41</td>\n",
              "      <td>92.0</td>\n",
              "      <td>1.1</td>\n",
              "      <td>5.527.455.521</td>\n",
              "      <td>1514199.0</td>\n",
              "      <td>9.3</td>\n",
              "      <td>8.8</td>\n",
              "      <td>356.00</td>\n",
              "      <td>5.9</td>\n",
              "    </tr>\n",
              "    <tr>\n",
              "      <th>3</th>\n",
              "      <td>Guinea-Bissau</td>\n",
              "      <td>2011</td>\n",
              "      <td>Developing</td>\n",
              "      <td>57.1</td>\n",
              "      <td>289.0</td>\n",
              "      <td>4</td>\n",
              "      <td>3.57</td>\n",
              "      <td>4.045.367.358</td>\n",
              "      <td>86.0</td>\n",
              "      <td>0</td>\n",
              "      <td>...</td>\n",
              "      <td>85.0</td>\n",
              "      <td>5.46</td>\n",
              "      <td>86.0</td>\n",
              "      <td>5.7</td>\n",
              "      <td>69.269.989</td>\n",
              "      <td>1596154.0</td>\n",
              "      <td>7.8</td>\n",
              "      <td>7.7</td>\n",
              "      <td>0.41</td>\n",
              "      <td>NaN</td>\n",
              "    </tr>\n",
              "    <tr>\n",
              "      <th>4</th>\n",
              "      <td>Myanmar</td>\n",
              "      <td>2007</td>\n",
              "      <td>Developing</td>\n",
              "      <td>64.5</td>\n",
              "      <td>217.0</td>\n",
              "      <td>58</td>\n",
              "      <td>0.26</td>\n",
              "      <td>5.305.728</td>\n",
              "      <td>85.0</td>\n",
              "      <td>1088</td>\n",
              "      <td>...</td>\n",
              "      <td>84.0</td>\n",
              "      <td>1.68</td>\n",
              "      <td>86.0</td>\n",
              "      <td>0.6</td>\n",
              "      <td>41.451</td>\n",
              "      <td>49171586.0</td>\n",
              "      <td>13.2</td>\n",
              "      <td>13.5</td>\n",
              "      <td>484.00</td>\n",
              "      <td>8.1</td>\n",
              "    </tr>\n",
              "  </tbody>\n",
              "</table>\n",
              "<p>5 rows × 22 columns</p>\n",
              "</div>\n",
              "      <button class=\"colab-df-convert\" onclick=\"convertToInteractive('df-a6a965b1-11d1-4231-ab52-b79cf9f6c7ea')\"\n",
              "              title=\"Convert this dataframe to an interactive table.\"\n",
              "              style=\"display:none;\">\n",
              "        \n",
              "  <svg xmlns=\"http://www.w3.org/2000/svg\" height=\"24px\"viewBox=\"0 0 24 24\"\n",
              "       width=\"24px\">\n",
              "    <path d=\"M0 0h24v24H0V0z\" fill=\"none\"/>\n",
              "    <path d=\"M18.56 5.44l.94 2.06.94-2.06 2.06-.94-2.06-.94-.94-2.06-.94 2.06-2.06.94zm-11 1L8.5 8.5l.94-2.06 2.06-.94-2.06-.94L8.5 2.5l-.94 2.06-2.06.94zm10 10l.94 2.06.94-2.06 2.06-.94-2.06-.94-.94-2.06-.94 2.06-2.06.94z\"/><path d=\"M17.41 7.96l-1.37-1.37c-.4-.4-.92-.59-1.43-.59-.52 0-1.04.2-1.43.59L10.3 9.45l-7.72 7.72c-.78.78-.78 2.05 0 2.83L4 21.41c.39.39.9.59 1.41.59.51 0 1.02-.2 1.41-.59l7.78-7.78 2.81-2.81c.8-.78.8-2.07 0-2.86zM5.41 20L4 18.59l7.72-7.72 1.47 1.35L5.41 20z\"/>\n",
              "  </svg>\n",
              "      </button>\n",
              "      \n",
              "  <style>\n",
              "    .colab-df-container {\n",
              "      display:flex;\n",
              "      flex-wrap:wrap;\n",
              "      gap: 12px;\n",
              "    }\n",
              "\n",
              "    .colab-df-convert {\n",
              "      background-color: #E8F0FE;\n",
              "      border: none;\n",
              "      border-radius: 50%;\n",
              "      cursor: pointer;\n",
              "      display: none;\n",
              "      fill: #1967D2;\n",
              "      height: 32px;\n",
              "      padding: 0 0 0 0;\n",
              "      width: 32px;\n",
              "    }\n",
              "\n",
              "    .colab-df-convert:hover {\n",
              "      background-color: #E2EBFA;\n",
              "      box-shadow: 0px 1px 2px rgba(60, 64, 67, 0.3), 0px 1px 3px 1px rgba(60, 64, 67, 0.15);\n",
              "      fill: #174EA6;\n",
              "    }\n",
              "\n",
              "    [theme=dark] .colab-df-convert {\n",
              "      background-color: #3B4455;\n",
              "      fill: #D2E3FC;\n",
              "    }\n",
              "\n",
              "    [theme=dark] .colab-df-convert:hover {\n",
              "      background-color: #434B5C;\n",
              "      box-shadow: 0px 1px 3px 1px rgba(0, 0, 0, 0.15);\n",
              "      filter: drop-shadow(0px 1px 2px rgba(0, 0, 0, 0.3));\n",
              "      fill: #FFFFFF;\n",
              "    }\n",
              "  </style>\n",
              "\n",
              "      <script>\n",
              "        const buttonEl =\n",
              "          document.querySelector('#df-a6a965b1-11d1-4231-ab52-b79cf9f6c7ea button.colab-df-convert');\n",
              "        buttonEl.style.display =\n",
              "          google.colab.kernel.accessAllowed ? 'block' : 'none';\n",
              "\n",
              "        async function convertToInteractive(key) {\n",
              "          const element = document.querySelector('#df-a6a965b1-11d1-4231-ab52-b79cf9f6c7ea');\n",
              "          const dataTable =\n",
              "            await google.colab.kernel.invokeFunction('convertToInteractive',\n",
              "                                                     [key], {});\n",
              "          if (!dataTable) return;\n",
              "\n",
              "          const docLinkHtml = 'Like what you see? Visit the ' +\n",
              "            '<a target=\"_blank\" href=https://colab.research.google.com/notebooks/data_table.ipynb>data table notebook</a>'\n",
              "            + ' to learn more about interactive tables.';\n",
              "          element.innerHTML = '';\n",
              "          dataTable['output_type'] = 'display_data';\n",
              "          await google.colab.output.renderOutput(dataTable, element);\n",
              "          const docLink = document.createElement('div');\n",
              "          docLink.innerHTML = docLinkHtml;\n",
              "          element.appendChild(docLink);\n",
              "        }\n",
              "      </script>\n",
              "    </div>\n",
              "  </div>\n",
              "  "
            ]
          },
          "metadata": {},
          "execution_count": 6
        }
      ]
    },
    {
      "cell_type": "code",
      "source": [
        "testing_df.head()"
      ],
      "metadata": {
        "colab": {
          "base_uri": "https://localhost:8080/",
          "height": 369
        },
        "id": "wEIpW4qK8FrT",
        "outputId": "a2046992-8ec8-4cfb-8864-66b3cc3b9c84"
      },
      "execution_count": null,
      "outputs": [
        {
          "output_type": "execute_result",
          "data": {
            "text/plain": [
              "                Country  Year      Status  Life expectancy  Adult Mortality  \\\n",
              "0  Syrian Arab Republic  2006  Developing             73.7            123.0   \n",
              "1               Croatia  2006   Developed             75.9            113.0   \n",
              "2            Montenegro  2007  Developing             74.2            125.0   \n",
              "3               Bahrain  2014  Developing             76.8              7.0   \n",
              "4                 Kenya  2000  Developing             51.9            428.0   \n",
              "\n",
              "   infant deaths  Alcohol percentage expenditure  Hepatitis B  Measles  ...  \\\n",
              "0              8     0.97          1.226.523.334         83.0      517  ...   \n",
              "1              0    11.83          1.555.651.986          NaN        1  ...   \n",
              "2              0     4.98          6.785.188.944          9.0        0  ...   \n",
              "3              0     1.57          3.672.556.742         98.0       46  ...   \n",
              "4             77     1.51            681.685.555          NaN    21002  ...   \n",
              "\n",
              "   Polio  Total expenditure  Diphtheria  HIV/AIDS            GDP  Population  \\\n",
              "0   83.0               3.78         8.0       0.1    176.224.617  18914977.0   \n",
              "1   96.0               6.95        96.0       0.1  1.136.341.845       444.0   \n",
              "2   92.0               6.74        92.0       0.1  5.957.145.693    615875.0   \n",
              "3   98.0               4.98        98.0       0.1    249.833.792         NaN   \n",
              "4    8.0               4.68        82.0      18.1    439.797.132   3145483.0   \n",
              "\n",
              "  thinness  1-19 years  thinness 5-9 years  Income composition of resources  \\\n",
              "0                  6.4                 6.3                           636.00   \n",
              "1                  1.8                 1.8                           783.00   \n",
              "2                  2.1                 2.2                           762.00   \n",
              "3                  6.1                 NaN                             0.82   \n",
              "4                  9.2                 9.1                           448.00   \n",
              "\n",
              "   Schooling  \n",
              "0       11.4  \n",
              "1       13.9  \n",
              "2       13.6  \n",
              "3       14.5  \n",
              "4        8.4  \n",
              "\n",
              "[5 rows x 22 columns]"
            ],
            "text/html": [
              "\n",
              "  <div id=\"df-5c4c95b3-b13f-4755-88c5-4a14553a5dfa\">\n",
              "    <div class=\"colab-df-container\">\n",
              "      <div>\n",
              "<style scoped>\n",
              "    .dataframe tbody tr th:only-of-type {\n",
              "        vertical-align: middle;\n",
              "    }\n",
              "\n",
              "    .dataframe tbody tr th {\n",
              "        vertical-align: top;\n",
              "    }\n",
              "\n",
              "    .dataframe thead th {\n",
              "        text-align: right;\n",
              "    }\n",
              "</style>\n",
              "<table border=\"1\" class=\"dataframe\">\n",
              "  <thead>\n",
              "    <tr style=\"text-align: right;\">\n",
              "      <th></th>\n",
              "      <th>Country</th>\n",
              "      <th>Year</th>\n",
              "      <th>Status</th>\n",
              "      <th>Life expectancy</th>\n",
              "      <th>Adult Mortality</th>\n",
              "      <th>infant deaths</th>\n",
              "      <th>Alcohol</th>\n",
              "      <th>percentage expenditure</th>\n",
              "      <th>Hepatitis B</th>\n",
              "      <th>Measles</th>\n",
              "      <th>...</th>\n",
              "      <th>Polio</th>\n",
              "      <th>Total expenditure</th>\n",
              "      <th>Diphtheria</th>\n",
              "      <th>HIV/AIDS</th>\n",
              "      <th>GDP</th>\n",
              "      <th>Population</th>\n",
              "      <th>thinness  1-19 years</th>\n",
              "      <th>thinness 5-9 years</th>\n",
              "      <th>Income composition of resources</th>\n",
              "      <th>Schooling</th>\n",
              "    </tr>\n",
              "  </thead>\n",
              "  <tbody>\n",
              "    <tr>\n",
              "      <th>0</th>\n",
              "      <td>Syrian Arab Republic</td>\n",
              "      <td>2006</td>\n",
              "      <td>Developing</td>\n",
              "      <td>73.7</td>\n",
              "      <td>123.0</td>\n",
              "      <td>8</td>\n",
              "      <td>0.97</td>\n",
              "      <td>1.226.523.334</td>\n",
              "      <td>83.0</td>\n",
              "      <td>517</td>\n",
              "      <td>...</td>\n",
              "      <td>83.0</td>\n",
              "      <td>3.78</td>\n",
              "      <td>8.0</td>\n",
              "      <td>0.1</td>\n",
              "      <td>176.224.617</td>\n",
              "      <td>18914977.0</td>\n",
              "      <td>6.4</td>\n",
              "      <td>6.3</td>\n",
              "      <td>636.00</td>\n",
              "      <td>11.4</td>\n",
              "    </tr>\n",
              "    <tr>\n",
              "      <th>1</th>\n",
              "      <td>Croatia</td>\n",
              "      <td>2006</td>\n",
              "      <td>Developed</td>\n",
              "      <td>75.9</td>\n",
              "      <td>113.0</td>\n",
              "      <td>0</td>\n",
              "      <td>11.83</td>\n",
              "      <td>1.555.651.986</td>\n",
              "      <td>NaN</td>\n",
              "      <td>1</td>\n",
              "      <td>...</td>\n",
              "      <td>96.0</td>\n",
              "      <td>6.95</td>\n",
              "      <td>96.0</td>\n",
              "      <td>0.1</td>\n",
              "      <td>1.136.341.845</td>\n",
              "      <td>444.0</td>\n",
              "      <td>1.8</td>\n",
              "      <td>1.8</td>\n",
              "      <td>783.00</td>\n",
              "      <td>13.9</td>\n",
              "    </tr>\n",
              "    <tr>\n",
              "      <th>2</th>\n",
              "      <td>Montenegro</td>\n",
              "      <td>2007</td>\n",
              "      <td>Developing</td>\n",
              "      <td>74.2</td>\n",
              "      <td>125.0</td>\n",
              "      <td>0</td>\n",
              "      <td>4.98</td>\n",
              "      <td>6.785.188.944</td>\n",
              "      <td>9.0</td>\n",
              "      <td>0</td>\n",
              "      <td>...</td>\n",
              "      <td>92.0</td>\n",
              "      <td>6.74</td>\n",
              "      <td>92.0</td>\n",
              "      <td>0.1</td>\n",
              "      <td>5.957.145.693</td>\n",
              "      <td>615875.0</td>\n",
              "      <td>2.1</td>\n",
              "      <td>2.2</td>\n",
              "      <td>762.00</td>\n",
              "      <td>13.6</td>\n",
              "    </tr>\n",
              "    <tr>\n",
              "      <th>3</th>\n",
              "      <td>Bahrain</td>\n",
              "      <td>2014</td>\n",
              "      <td>Developing</td>\n",
              "      <td>76.8</td>\n",
              "      <td>7.0</td>\n",
              "      <td>0</td>\n",
              "      <td>1.57</td>\n",
              "      <td>3.672.556.742</td>\n",
              "      <td>98.0</td>\n",
              "      <td>46</td>\n",
              "      <td>...</td>\n",
              "      <td>98.0</td>\n",
              "      <td>4.98</td>\n",
              "      <td>98.0</td>\n",
              "      <td>0.1</td>\n",
              "      <td>249.833.792</td>\n",
              "      <td>NaN</td>\n",
              "      <td>6.1</td>\n",
              "      <td>NaN</td>\n",
              "      <td>0.82</td>\n",
              "      <td>14.5</td>\n",
              "    </tr>\n",
              "    <tr>\n",
              "      <th>4</th>\n",
              "      <td>Kenya</td>\n",
              "      <td>2000</td>\n",
              "      <td>Developing</td>\n",
              "      <td>51.9</td>\n",
              "      <td>428.0</td>\n",
              "      <td>77</td>\n",
              "      <td>1.51</td>\n",
              "      <td>681.685.555</td>\n",
              "      <td>NaN</td>\n",
              "      <td>21002</td>\n",
              "      <td>...</td>\n",
              "      <td>8.0</td>\n",
              "      <td>4.68</td>\n",
              "      <td>82.0</td>\n",
              "      <td>18.1</td>\n",
              "      <td>439.797.132</td>\n",
              "      <td>3145483.0</td>\n",
              "      <td>9.2</td>\n",
              "      <td>9.1</td>\n",
              "      <td>448.00</td>\n",
              "      <td>8.4</td>\n",
              "    </tr>\n",
              "  </tbody>\n",
              "</table>\n",
              "<p>5 rows × 22 columns</p>\n",
              "</div>\n",
              "      <button class=\"colab-df-convert\" onclick=\"convertToInteractive('df-5c4c95b3-b13f-4755-88c5-4a14553a5dfa')\"\n",
              "              title=\"Convert this dataframe to an interactive table.\"\n",
              "              style=\"display:none;\">\n",
              "        \n",
              "  <svg xmlns=\"http://www.w3.org/2000/svg\" height=\"24px\"viewBox=\"0 0 24 24\"\n",
              "       width=\"24px\">\n",
              "    <path d=\"M0 0h24v24H0V0z\" fill=\"none\"/>\n",
              "    <path d=\"M18.56 5.44l.94 2.06.94-2.06 2.06-.94-2.06-.94-.94-2.06-.94 2.06-2.06.94zm-11 1L8.5 8.5l.94-2.06 2.06-.94-2.06-.94L8.5 2.5l-.94 2.06-2.06.94zm10 10l.94 2.06.94-2.06 2.06-.94-2.06-.94-.94-2.06-.94 2.06-2.06.94z\"/><path d=\"M17.41 7.96l-1.37-1.37c-.4-.4-.92-.59-1.43-.59-.52 0-1.04.2-1.43.59L10.3 9.45l-7.72 7.72c-.78.78-.78 2.05 0 2.83L4 21.41c.39.39.9.59 1.41.59.51 0 1.02-.2 1.41-.59l7.78-7.78 2.81-2.81c.8-.78.8-2.07 0-2.86zM5.41 20L4 18.59l7.72-7.72 1.47 1.35L5.41 20z\"/>\n",
              "  </svg>\n",
              "      </button>\n",
              "      \n",
              "  <style>\n",
              "    .colab-df-container {\n",
              "      display:flex;\n",
              "      flex-wrap:wrap;\n",
              "      gap: 12px;\n",
              "    }\n",
              "\n",
              "    .colab-df-convert {\n",
              "      background-color: #E8F0FE;\n",
              "      border: none;\n",
              "      border-radius: 50%;\n",
              "      cursor: pointer;\n",
              "      display: none;\n",
              "      fill: #1967D2;\n",
              "      height: 32px;\n",
              "      padding: 0 0 0 0;\n",
              "      width: 32px;\n",
              "    }\n",
              "\n",
              "    .colab-df-convert:hover {\n",
              "      background-color: #E2EBFA;\n",
              "      box-shadow: 0px 1px 2px rgba(60, 64, 67, 0.3), 0px 1px 3px 1px rgba(60, 64, 67, 0.15);\n",
              "      fill: #174EA6;\n",
              "    }\n",
              "\n",
              "    [theme=dark] .colab-df-convert {\n",
              "      background-color: #3B4455;\n",
              "      fill: #D2E3FC;\n",
              "    }\n",
              "\n",
              "    [theme=dark] .colab-df-convert:hover {\n",
              "      background-color: #434B5C;\n",
              "      box-shadow: 0px 1px 3px 1px rgba(0, 0, 0, 0.15);\n",
              "      filter: drop-shadow(0px 1px 2px rgba(0, 0, 0, 0.3));\n",
              "      fill: #FFFFFF;\n",
              "    }\n",
              "  </style>\n",
              "\n",
              "      <script>\n",
              "        const buttonEl =\n",
              "          document.querySelector('#df-5c4c95b3-b13f-4755-88c5-4a14553a5dfa button.colab-df-convert');\n",
              "        buttonEl.style.display =\n",
              "          google.colab.kernel.accessAllowed ? 'block' : 'none';\n",
              "\n",
              "        async function convertToInteractive(key) {\n",
              "          const element = document.querySelector('#df-5c4c95b3-b13f-4755-88c5-4a14553a5dfa');\n",
              "          const dataTable =\n",
              "            await google.colab.kernel.invokeFunction('convertToInteractive',\n",
              "                                                     [key], {});\n",
              "          if (!dataTable) return;\n",
              "\n",
              "          const docLinkHtml = 'Like what you see? Visit the ' +\n",
              "            '<a target=\"_blank\" href=https://colab.research.google.com/notebooks/data_table.ipynb>data table notebook</a>'\n",
              "            + ' to learn more about interactive tables.';\n",
              "          element.innerHTML = '';\n",
              "          dataTable['output_type'] = 'display_data';\n",
              "          await google.colab.output.renderOutput(dataTable, element);\n",
              "          const docLink = document.createElement('div');\n",
              "          docLink.innerHTML = docLinkHtml;\n",
              "          element.appendChild(docLink);\n",
              "        }\n",
              "      </script>\n",
              "    </div>\n",
              "  </div>\n",
              "  "
            ]
          },
          "metadata": {},
          "execution_count": 7
        }
      ]
    },
    {
      "cell_type": "markdown",
      "source": [
        "Observando os cabeçalhos acima é possível verificar que, aparentemente, as colunas **percentage expenditure** e **Total expenditure** estão trocadas, pois semanticamente espera-se que **Total expenditure** represente o valor monetário total de uma variável específica do país (como US$2,655,573,684.00, por exemplo) e **percentage expenditure** represente um valor percentual relativo (como 8.15%). Apesar disso, manteremos os títulos originais das colunas, uma vez que isso não afetará os modelos de aprendizado que trabalharemos nesta tarefa."
      ],
      "metadata": {
        "id": "iTCMmhLRrALA"
      }
    },
    {
      "cell_type": "markdown",
      "source": [
        "Em ambos os datasets apareceram samples (linhas) com datapoints vazios (NaN). Então, é conveniente examinar a quantidade desses samples para determinar se é viável uma simples remoção de todas as linhas que apresentam missing values, ou se é necessário um tratamento mais elaborado."
      ],
      "metadata": {
        "id": "NWFV8k5uln9M"
      }
    },
    {
      "cell_type": "code",
      "source": [
        "# Verificação de linhas com missing values\n",
        "\n",
        "training_df_shape = training_df.shape\n",
        "nan_analysis_training_df_shape = training_df.dropna().shape\n",
        "\n",
        "testing_df_shape = testing_df.shape\n",
        "nan_analysis_testing_df_shape = testing_df.dropna().shape\n",
        "\n",
        "print(f'O data frame de treinamento possui {training_df_shape[0]} linhas, \\\n",
        "mas apenas {nan_analysis_training_df_shape[0]} delas possuem dados em todas \\\n",
        "as colunas.')\n",
        "\n",
        "print(f'O data frame de teste possui {testing_df_shape[0]} linhas, \\\n",
        "mas apenas {nan_analysis_testing_df_shape[0]} delas possuem dados em todas \\\n",
        "as colunas.')"
      ],
      "metadata": {
        "colab": {
          "base_uri": "https://localhost:8080/"
        },
        "id": "3QvaOzLs8KBh",
        "outputId": "4b07fc4b-c81d-4883-ceae-0322f30bfe6b"
      },
      "execution_count": null,
      "outputs": [
        {
          "output_type": "stream",
          "name": "stdout",
          "text": [
            "O data frame de treinamento possui 2056 linhas, mas apenas 749 delas possuem dados em todas as colunas.\n",
            "O data frame de teste possui 882 linhas, mas apenas 314 delas possuem dados em todas as colunas.\n"
          ]
        }
      ]
    },
    {
      "cell_type": "markdown",
      "source": [
        "Simplesmente remover linhas com missing values reduziria muito os **N**'s de treinamento e de teste, portanto não é uma opção."
      ],
      "metadata": {
        "id": "CWb0h8v9md-Y"
      }
    },
    {
      "cell_type": "markdown",
      "source": [
        "Vamos identificar se existem linhas que não possuem valores para a coluna **Life expectancy**, e em seguida **removê-las**. Como esta é a coluna cujos valores queremos prever, ela necessariamente precisa posssuir um valor válido para cada datapoint, já que não faz sentido prever um valor inexistente ou inválido. Lembremos que estamos trabalhando com um problema supervisionado, portanto todos os samples precisam ter suas respectivas *labels* anotadas."
      ],
      "metadata": {
        "id": "wY-RoqLVnTnQ"
      }
    },
    {
      "cell_type": "code",
      "source": [
        "# Verificação de linhas vazias para a coluna 'Life expectancy'\n",
        "\n",
        "n_training_rows_without_life_expectancy = training_df['Life expectancy'].isna().sum() # verificação no conjunto de treinamento\n",
        "n_testing_rows_without_life_expectancy = testing_df['Life expectancy'].isna().sum() # verificação no conjunto de teste\n",
        "f\"{n_training_rows_without_life_expectancy}\"\n",
        "f'''\\\n",
        "Os datasets de treino e de teste possuem respectivamente \\\n",
        "{n_training_rows_without_life_expectancy} e {n_testing_rows_without_life_expectancy} \\\n",
        "linhas que não possuem valores para a variável Life expectancy e que serão removidas.\\\n",
        "'''"
      ],
      "metadata": {
        "colab": {
          "base_uri": "https://localhost:8080/",
          "height": 35
        },
        "id": "0mGJcWDRbmQZ",
        "outputId": "6e80a3d1-8256-40d2-c347-7ff3c4ea43e2"
      },
      "execution_count": null,
      "outputs": [
        {
          "output_type": "execute_result",
          "data": {
            "text/plain": [
              "'Os datasets de treino e de teste possuem respectivamente 6 e 4 linhas que não possuem valores para a variável Life expectancy e que serão removidas.'"
            ],
            "application/vnd.google.colaboratory.intrinsic+json": {
              "type": "string"
            }
          },
          "metadata": {},
          "execution_count": 9
        }
      ]
    },
    {
      "cell_type": "markdown",
      "source": [
        "É possível perceber que colunas como **Country** e **Status** são realmente variáveis categóricas e devem ser tratadas como tal, mas **percentage expenditure** e **GDP** são variáveis quantitativas que estão num formato muito específico de *string*, o que exige um tratamento mais detalhado."
      ],
      "metadata": {
        "id": "cPg7vk7hluV9"
      }
    },
    {
      "cell_type": "code",
      "source": [
        "# Verificação de features que não apresentam valores numéricos\n",
        "\n",
        "non_numeric_training_df = training_df.select_dtypes(exclude = 'number')\n",
        "non_numeric_training_df.head()"
      ],
      "metadata": {
        "colab": {
          "base_uri": "https://localhost:8080/",
          "height": 206
        },
        "id": "MJJOdP0FIkoo",
        "outputId": "19e8671f-15b9-46ae-987f-d8eebf8378e2"
      },
      "execution_count": null,
      "outputs": [
        {
          "output_type": "execute_result",
          "data": {
            "text/plain": [
              "         Country      Status percentage expenditure            GDP\n",
              "0          Malta   Developed          2.655.573.684     21.928.767\n",
              "1          Congo  Developing                      0            NaN\n",
              "2   Burkina Faso  Developing          8.114.304.705  5.527.455.521\n",
              "3  Guinea-Bissau  Developing          4.045.367.358     69.269.989\n",
              "4        Myanmar  Developing              5.305.728         41.451"
            ],
            "text/html": [
              "\n",
              "  <div id=\"df-eb40c304-63f7-4288-a550-b75be9626177\">\n",
              "    <div class=\"colab-df-container\">\n",
              "      <div>\n",
              "<style scoped>\n",
              "    .dataframe tbody tr th:only-of-type {\n",
              "        vertical-align: middle;\n",
              "    }\n",
              "\n",
              "    .dataframe tbody tr th {\n",
              "        vertical-align: top;\n",
              "    }\n",
              "\n",
              "    .dataframe thead th {\n",
              "        text-align: right;\n",
              "    }\n",
              "</style>\n",
              "<table border=\"1\" class=\"dataframe\">\n",
              "  <thead>\n",
              "    <tr style=\"text-align: right;\">\n",
              "      <th></th>\n",
              "      <th>Country</th>\n",
              "      <th>Status</th>\n",
              "      <th>percentage expenditure</th>\n",
              "      <th>GDP</th>\n",
              "    </tr>\n",
              "  </thead>\n",
              "  <tbody>\n",
              "    <tr>\n",
              "      <th>0</th>\n",
              "      <td>Malta</td>\n",
              "      <td>Developed</td>\n",
              "      <td>2.655.573.684</td>\n",
              "      <td>21.928.767</td>\n",
              "    </tr>\n",
              "    <tr>\n",
              "      <th>1</th>\n",
              "      <td>Congo</td>\n",
              "      <td>Developing</td>\n",
              "      <td>0</td>\n",
              "      <td>NaN</td>\n",
              "    </tr>\n",
              "    <tr>\n",
              "      <th>2</th>\n",
              "      <td>Burkina Faso</td>\n",
              "      <td>Developing</td>\n",
              "      <td>8.114.304.705</td>\n",
              "      <td>5.527.455.521</td>\n",
              "    </tr>\n",
              "    <tr>\n",
              "      <th>3</th>\n",
              "      <td>Guinea-Bissau</td>\n",
              "      <td>Developing</td>\n",
              "      <td>4.045.367.358</td>\n",
              "      <td>69.269.989</td>\n",
              "    </tr>\n",
              "    <tr>\n",
              "      <th>4</th>\n",
              "      <td>Myanmar</td>\n",
              "      <td>Developing</td>\n",
              "      <td>5.305.728</td>\n",
              "      <td>41.451</td>\n",
              "    </tr>\n",
              "  </tbody>\n",
              "</table>\n",
              "</div>\n",
              "      <button class=\"colab-df-convert\" onclick=\"convertToInteractive('df-eb40c304-63f7-4288-a550-b75be9626177')\"\n",
              "              title=\"Convert this dataframe to an interactive table.\"\n",
              "              style=\"display:none;\">\n",
              "        \n",
              "  <svg xmlns=\"http://www.w3.org/2000/svg\" height=\"24px\"viewBox=\"0 0 24 24\"\n",
              "       width=\"24px\">\n",
              "    <path d=\"M0 0h24v24H0V0z\" fill=\"none\"/>\n",
              "    <path d=\"M18.56 5.44l.94 2.06.94-2.06 2.06-.94-2.06-.94-.94-2.06-.94 2.06-2.06.94zm-11 1L8.5 8.5l.94-2.06 2.06-.94-2.06-.94L8.5 2.5l-.94 2.06-2.06.94zm10 10l.94 2.06.94-2.06 2.06-.94-2.06-.94-.94-2.06-.94 2.06-2.06.94z\"/><path d=\"M17.41 7.96l-1.37-1.37c-.4-.4-.92-.59-1.43-.59-.52 0-1.04.2-1.43.59L10.3 9.45l-7.72 7.72c-.78.78-.78 2.05 0 2.83L4 21.41c.39.39.9.59 1.41.59.51 0 1.02-.2 1.41-.59l7.78-7.78 2.81-2.81c.8-.78.8-2.07 0-2.86zM5.41 20L4 18.59l7.72-7.72 1.47 1.35L5.41 20z\"/>\n",
              "  </svg>\n",
              "      </button>\n",
              "      \n",
              "  <style>\n",
              "    .colab-df-container {\n",
              "      display:flex;\n",
              "      flex-wrap:wrap;\n",
              "      gap: 12px;\n",
              "    }\n",
              "\n",
              "    .colab-df-convert {\n",
              "      background-color: #E8F0FE;\n",
              "      border: none;\n",
              "      border-radius: 50%;\n",
              "      cursor: pointer;\n",
              "      display: none;\n",
              "      fill: #1967D2;\n",
              "      height: 32px;\n",
              "      padding: 0 0 0 0;\n",
              "      width: 32px;\n",
              "    }\n",
              "\n",
              "    .colab-df-convert:hover {\n",
              "      background-color: #E2EBFA;\n",
              "      box-shadow: 0px 1px 2px rgba(60, 64, 67, 0.3), 0px 1px 3px 1px rgba(60, 64, 67, 0.15);\n",
              "      fill: #174EA6;\n",
              "    }\n",
              "\n",
              "    [theme=dark] .colab-df-convert {\n",
              "      background-color: #3B4455;\n",
              "      fill: #D2E3FC;\n",
              "    }\n",
              "\n",
              "    [theme=dark] .colab-df-convert:hover {\n",
              "      background-color: #434B5C;\n",
              "      box-shadow: 0px 1px 3px 1px rgba(0, 0, 0, 0.15);\n",
              "      filter: drop-shadow(0px 1px 2px rgba(0, 0, 0, 0.3));\n",
              "      fill: #FFFFFF;\n",
              "    }\n",
              "  </style>\n",
              "\n",
              "      <script>\n",
              "        const buttonEl =\n",
              "          document.querySelector('#df-eb40c304-63f7-4288-a550-b75be9626177 button.colab-df-convert');\n",
              "        buttonEl.style.display =\n",
              "          google.colab.kernel.accessAllowed ? 'block' : 'none';\n",
              "\n",
              "        async function convertToInteractive(key) {\n",
              "          const element = document.querySelector('#df-eb40c304-63f7-4288-a550-b75be9626177');\n",
              "          const dataTable =\n",
              "            await google.colab.kernel.invokeFunction('convertToInteractive',\n",
              "                                                     [key], {});\n",
              "          if (!dataTable) return;\n",
              "\n",
              "          const docLinkHtml = 'Like what you see? Visit the ' +\n",
              "            '<a target=\"_blank\" href=https://colab.research.google.com/notebooks/data_table.ipynb>data table notebook</a>'\n",
              "            + ' to learn more about interactive tables.';\n",
              "          element.innerHTML = '';\n",
              "          dataTable['output_type'] = 'display_data';\n",
              "          await google.colab.output.renderOutput(dataTable, element);\n",
              "          const docLink = document.createElement('div');\n",
              "          docLink.innerHTML = docLinkHtml;\n",
              "          element.appendChild(docLink);\n",
              "        }\n",
              "      </script>\n",
              "    </div>\n",
              "  </div>\n",
              "  "
            ]
          },
          "metadata": {},
          "execution_count": 10
        }
      ]
    },
    {
      "cell_type": "code",
      "source": [
        "# Análise da feature 'Country'\n",
        "\n",
        "(\n",
        "  country_names, number_of_countries\n",
        ") = training_df['Country'].unique(), len(training_df['Country'].unique())\n",
        "(\n",
        "  country_names, f'Total of {number_of_countries} countries'\n",
        ")"
      ],
      "metadata": {
        "colab": {
          "base_uri": "https://localhost:8080/"
        },
        "id": "obDBc_uRoO5K",
        "outputId": "b3ab10e3-e493-40b5-d638-4829404beec7"
      },
      "execution_count": null,
      "outputs": [
        {
          "output_type": "execute_result",
          "data": {
            "text/plain": [
              "(array(['Malta', 'Congo', 'Burkina Faso', 'Guinea-Bissau', 'Myanmar',\n",
              "        'Libya', 'Canada', 'Micronesia (Federated States of)',\n",
              "        'Bosnia and Herzegovina', 'Botswana', 'Solomon Islands',\n",
              "        'Dominican Republic', 'Singapore', 'Bhutan', 'Haiti', 'Kiribati',\n",
              "        'Grenada', 'Malawi', 'Philippines', 'Maldives', 'Barbados',\n",
              "        'Ghana', 'Cabo Verde', 'Kazakhstan', 'Nicaragua', 'Argentina',\n",
              "        'Kyrgyzstan', 'Equatorial Guinea', 'Swaziland', 'Belize', 'Peru',\n",
              "        'Uzbekistan', 'Saint Lucia', 'Burundi', 'Cambodia', 'Comoros',\n",
              "        'Oman', 'Turkmenistan', 'Finland', 'Slovakia', 'Tonga',\n",
              "        'South Sudan', 'Vanuatu', 'Croatia', 'Poland', 'Zambia', 'Jamaica',\n",
              "        'El Salvador', 'Turkey', 'Zimbabwe', 'Japan', 'Benin', 'Ireland',\n",
              "        'Lithuania', 'The former Yugoslav republic of Macedonia',\n",
              "        'Mauritius', 'Albania', 'Namibia', 'Mozambique', 'Mauritania',\n",
              "        'Lesotho', 'Madagascar', 'Guyana', 'Panama', 'Djibouti', 'Gambia',\n",
              "        'Romania', 'Cyprus', 'Trinidad and Tobago', 'Latvia', 'Gabon',\n",
              "        'Seychelles', 'Brazil', 'Angola', 'Republic of Korea', 'Guatemala',\n",
              "        'Montenegro', 'Afghanistan', 'Suriname', 'Senegal', 'Somalia',\n",
              "        'Thailand', 'Mongolia', 'Rwanda', 'Nigeria', 'Luxembourg',\n",
              "        'Liberia', 'Bangladesh', 'Ecuador', 'Bahamas', 'Greece', 'Cuba',\n",
              "        'Uruguay', 'Austria', 'Iraq', 'Ethiopia', 'France',\n",
              "        'Bolivia (Plurinational State of)', 'Egypt', 'Costa Rica',\n",
              "        'Brunei Darussalam', 'Cameroon', 'Saudi Arabia', 'Togo', 'Czechia',\n",
              "        'Yemen', 'Australia', 'Niger', 'Morocco', 'Tajikistan', 'Italy',\n",
              "        'China', 'Samoa', 'Sweden', 'India', 'Pakistan',\n",
              "        'Antigua and Barbuda', 'South Africa', 'Belarus',\n",
              "        'Saint Vincent and the Grenadines', 'Israel', 'Kenya', 'Hungary',\n",
              "        'Germany', 'Lebanon', 'Tunisia', 'Mexico', 'Paraguay', 'Denmark',\n",
              "        'Armenia', 'Estonia', 'Fiji', 'Chad', 'Bahrain', 'Azerbaijan',\n",
              "        'Indonesia', 'Democratic Republic of the Congo', 'Eritrea',\n",
              "        'United Kingdom of Great Britain and Northern Ireland',\n",
              "        \"Côte d'Ivoire\", 'Viet Nam', 'Chile', 'New Zealand', 'Ukraine',\n",
              "        'Iceland', 'Timor-Leste', 'Slovenia', 'Spain',\n",
              "        'Central African Republic', 'Kuwait', 'Jordan', 'Netherlands',\n",
              "        'Russian Federation', 'United Arab Emirates',\n",
              "        'Syrian Arab Republic', 'United States of America', 'Sri Lanka',\n",
              "        'Portugal', 'Colombia', 'Sao Tome and Principe',\n",
              "        'United Republic of Tanzania', 'Guinea', 'Bulgaria', 'Norway',\n",
              "        'Sudan', 'Sierra Leone', 'Mali',\n",
              "        \"Democratic People's Republic of Korea\", 'Nepal', 'Georgia',\n",
              "        'Saint Kitts and Nevis', 'Venezuela (Bolivarian Republic of)',\n",
              "        'Algeria', 'Switzerland', 'Republic of Moldova', 'Serbia', 'Qatar',\n",
              "        'Malaysia', 'Belgium', 'Uganda', 'Papua New Guinea', 'Nauru',\n",
              "        'Iran (Islamic Republic of)', 'Honduras',\n",
              "        \"Lao People's Democratic Republic\", 'Cook Islands', 'Palau',\n",
              "        'Monaco', 'Dominica'], dtype=object), 'Total of 189 countries')"
            ]
          },
          "metadata": {},
          "execution_count": 11
        }
      ]
    },
    {
      "cell_type": "markdown",
      "source": [
        "A feature **Country** será excluída dos datasets por ter um custo/benefício ruim para o modelo: como é uma variável categórica não-ordenável, deveria ser pré-processada com one-hot-enconding, mas isso aumentaria a dimensionalidade do dataset em quase 200 colunas que agregam pouco valor para o modelo."
      ],
      "metadata": {
        "id": "wr450qREouJY"
      }
    },
    {
      "cell_type": "code",
      "source": [
        "# Análise da feature 'Status'\n",
        "\n",
        "training_df[\"Status\"].unique(), testing_df[\"Status\"].unique()"
      ],
      "metadata": {
        "colab": {
          "base_uri": "https://localhost:8080/"
        },
        "id": "Z-hsqKzmo9Q0",
        "outputId": "c0d73979-ac6c-4f71-df62-aa79578c57f8"
      },
      "execution_count": null,
      "outputs": [
        {
          "output_type": "execute_result",
          "data": {
            "text/plain": [
              "(array(['Developed', 'Developing'], dtype=object),\n",
              " array(['Developing', 'Developed'], dtype=object))"
            ]
          },
          "metadata": {},
          "execution_count": 12
        }
      ]
    },
    {
      "cell_type": "markdown",
      "source": [
        "A variável **Status**, por outro lado, aumenta a dimensionalidade dos datasets em apenas uma coluna e mantém um bom custo/benefício para o modelo.\n",
        "\n",
        "Como a coluna possui categorias que estão presentes em ambos os datasets, será conveniente usar a função **get_dummies** do pandas para implementar a técnica de one-hot-enconding nessa variável."
      ],
      "metadata": {
        "id": "HsRzsmuQpD7c"
      }
    },
    {
      "cell_type": "markdown",
      "source": [
        "As variáveis **GDP** e **percentage expenditure** foram identificadas como não-numéricas, apesar de visualmente parecerem números. Para entender melhor, vale a pena identificar os tipos de dados que estas colunas estão utilizando."
      ],
      "metadata": {
        "id": "zl3pLBCCtcvc"
      }
    },
    {
      "cell_type": "code",
      "source": [
        "non_numeric_training_df.head(1)[\"percentage expenditure\"]"
      ],
      "metadata": {
        "colab": {
          "base_uri": "https://localhost:8080/"
        },
        "id": "nRjCg8nTzj3a",
        "outputId": "729f09e9-fd87-4d98-d829-327a2ebce77e"
      },
      "execution_count": null,
      "outputs": [
        {
          "output_type": "execute_result",
          "data": {
            "text/plain": [
              "0    2.655.573.684\n",
              "Name: percentage expenditure, dtype: object"
            ]
          },
          "metadata": {},
          "execution_count": 13
        }
      ]
    },
    {
      "cell_type": "code",
      "source": [
        "non_numeric_training_df.head(1)[\"GDP\"]"
      ],
      "metadata": {
        "colab": {
          "base_uri": "https://localhost:8080/"
        },
        "id": "N28rkdE2zvXN",
        "outputId": "a65237de-9a4b-4a1e-cf14-18a05f734512"
      },
      "execution_count": null,
      "outputs": [
        {
          "output_type": "execute_result",
          "data": {
            "text/plain": [
              "0    21.928.767\n",
              "Name: GDP, dtype: object"
            ]
          },
          "metadata": {},
          "execution_count": 14
        }
      ]
    },
    {
      "cell_type": "markdown",
      "source": [
        "Como mostrado quando [analisamos variáveis não-numéricas](#scrollTo=MJJOdP0FIkoo) no dataset de treinamento, **GDP** e **percentage expenditure** possuem alguns valores NaN e um formato específico de string (com separador de milhares que utiliza \".\"), como no exemplo abaixo.\n",
        "\n",
        "\n",
        "```python\n",
        "\"21.928.767\"\n",
        "```\n",
        "\n",
        "\n",
        "\n",
        "Portanto, irão requerer um tratamento específico de conversão para que estas colunas passem a comportar variáveis numéricas."
      ],
      "metadata": {
        "id": "cJTF5onwnQwM"
      }
    },
    {
      "cell_type": "code",
      "source": [
        "# Informações gerais sobre os datasets\n",
        "\n",
        "training_df.info(), testing_df.info()"
      ],
      "metadata": {
        "colab": {
          "base_uri": "https://localhost:8080/"
        },
        "id": "oX04jDrFCrVP",
        "outputId": "c78f6337-068e-4cff-87f3-19db41d62def"
      },
      "execution_count": null,
      "outputs": [
        {
          "output_type": "stream",
          "name": "stdout",
          "text": [
            "<class 'pandas.core.frame.DataFrame'>\n",
            "RangeIndex: 2056 entries, 0 to 2055\n",
            "Data columns (total 22 columns):\n",
            " #   Column                           Non-Null Count  Dtype  \n",
            "---  ------                           --------------  -----  \n",
            " 0   Country                          2056 non-null   object \n",
            " 1   Year                             2056 non-null   int64  \n",
            " 2   Status                           2056 non-null   object \n",
            " 3   Life expectancy                  2050 non-null   float64\n",
            " 4   Adult Mortality                  2050 non-null   float64\n",
            " 5   infant deaths                    2056 non-null   int64  \n",
            " 6   Alcohol                          1920 non-null   float64\n",
            " 7   percentage expenditure           2056 non-null   object \n",
            " 8   Hepatitis B                      1686 non-null   float64\n",
            " 9   Measles                          2056 non-null   int64  \n",
            " 10  BMI                              2032 non-null   float64\n",
            " 11  under-five deaths                2056 non-null   int64  \n",
            " 12  Polio                            2045 non-null   float64\n",
            " 13  Total expenditure                1898 non-null   float64\n",
            " 14  Diphtheria                       2045 non-null   float64\n",
            " 15  HIV/AIDS                         2056 non-null   float64\n",
            " 16  GDP                              1751 non-null   object \n",
            " 17  Population                       1612 non-null   float64\n",
            " 18  thinness  1-19 years             1557 non-null   float64\n",
            " 19  thinness 5-9 years               1578 non-null   float64\n",
            " 20  Income composition of resources  1946 non-null   float64\n",
            " 21  Schooling                        1735 non-null   float64\n",
            "dtypes: float64(14), int64(4), object(4)\n",
            "memory usage: 353.5+ KB\n",
            "<class 'pandas.core.frame.DataFrame'>\n",
            "RangeIndex: 882 entries, 0 to 881\n",
            "Data columns (total 22 columns):\n",
            " #   Column                           Non-Null Count  Dtype  \n",
            "---  ------                           --------------  -----  \n",
            " 0   Country                          882 non-null    object \n",
            " 1   Year                             882 non-null    int64  \n",
            " 2   Status                           882 non-null    object \n",
            " 3   Life expectancy                  878 non-null    float64\n",
            " 4   Adult Mortality                  878 non-null    float64\n",
            " 5   infant deaths                    882 non-null    int64  \n",
            " 6   Alcohol                          824 non-null    float64\n",
            " 7   percentage expenditure           882 non-null    object \n",
            " 8   Hepatitis B                      699 non-null    float64\n",
            " 9   Measles                          882 non-null    int64  \n",
            " 10  BMI                              872 non-null    float64\n",
            " 11  under-five deaths                882 non-null    int64  \n",
            " 12  Polio                            874 non-null    float64\n",
            " 13  Total expenditure                814 non-null    float64\n",
            " 14  Diphtheria                       874 non-null    float64\n",
            " 15  HIV/AIDS                         882 non-null    float64\n",
            " 16  GDP                              731 non-null    object \n",
            " 17  Population                       674 non-null    float64\n",
            " 18  thinness  1-19 years             686 non-null    float64\n",
            " 19  thinness 5-9 years               677 non-null    float64\n",
            " 20  Income composition of resources  825 non-null    float64\n",
            " 21  Schooling                        753 non-null    float64\n",
            "dtypes: float64(14), int64(4), object(4)\n",
            "memory usage: 151.7+ KB\n"
          ]
        },
        {
          "output_type": "execute_result",
          "data": {
            "text/plain": [
              "(None, None)"
            ]
          },
          "metadata": {},
          "execution_count": 15
        }
      ]
    },
    {
      "cell_type": "markdown",
      "source": [
        "Os [datasets](#scrollTo=oX04jDrFCrVP) possuem diversas células com missing values espalhadas em diferentes colunas, por isso será necessário preencher os dados faltantes com a média das respectivas colunas (existem outros métodos para preencher os valores faltantes, mas escolhemos esse *approach*)."
      ],
      "metadata": {
        "id": "n3i2V98aqAmf"
      }
    },
    {
      "cell_type": "markdown",
      "source": [
        "A essa altura, é interessante também procurar pela existência de *outliers*. Uma análise mais detalhada das distribuições dos datapoints para cada feature irá nos revelar que a maior parte delas não respeita uma distribuição conhecida e bem comportada. Não faremos a análise para todas as features, mas verifiquemos a seguir um exemplo."
      ],
      "metadata": {
        "id": "sLEJRlFR0URV"
      }
    },
    {
      "cell_type": "markdown",
      "source": [
        "Iremos comparar duas colunas: **Life expectancy** e **HIV/AIDS**."
      ],
      "metadata": {
        "id": "-YvzVuPv2QrA"
      }
    },
    {
      "cell_type": "code",
      "source": [
        "# Histograma da coluna 'Life expectancy'\n",
        "\n",
        "plt.hist(training_df['Life expectancy'], bins = 50, rwidth = 0.8)\n",
        "plt.xlabel('age intervals')\n",
        "plt.ylabel('ocurrencies')\n",
        "plt.show()"
      ],
      "metadata": {
        "colab": {
          "base_uri": "https://localhost:8080/",
          "height": 279
        },
        "id": "WMKi9Adw2y2t",
        "outputId": "fe3f6d88-6fa2-40a4-8ac0-6e2ce5a8a8d0"
      },
      "execution_count": null,
      "outputs": [
        {
          "output_type": "display_data",
          "data": {
            "text/plain": [
              "<Figure size 432x288 with 1 Axes>"
            ],
            "image/png": "[encoded data removed]"
          },
          "metadata": {
            "needs_background": "light"
          }
        }
      ]
    },
    {
      "cell_type": "code",
      "source": [
        "# Histograma da coluna 'HIV/AIDS'\n",
        "\n",
        "plt.hist(training_df['HIV/AIDS'], bins = 50, rwidth = 0.8)\n",
        "plt.xlabel('HIV/AIDS metrics intervals')\n",
        "plt.ylabel('ocurrencies')\n",
        "plt.show()"
      ],
      "metadata": {
        "colab": {
          "base_uri": "https://localhost:8080/",
          "height": 279
        },
        "id": "U8A5cXCc8HGQ",
        "outputId": "0017c74a-02af-463d-f7c5-98c3bb747158"
      },
      "execution_count": null,
      "outputs": [
        {
          "output_type": "display_data",
          "data": {
            "text/plain": [
              "<Figure size 432x288 with 1 Axes>"
            ],
            "image/png": "[encoded data removed]"
          },
          "metadata": {
            "needs_background": "light"
          }
        }
      ]
    },
    {
      "cell_type": "markdown",
      "source": [
        "No exemplo acima, é possível notar uma discrepância bastante evidente entre as duas distribuições: enquanto que **Life expectancy** apresenta uma distribuição até que bem comportada (embora não seja uma distribuição normal), vemos algo completamente diferente para **HIV/AIDS**. Isso já é um indício de que identificar outliers nesses conjuntos pode não ser uma tarefa simples."
      ],
      "metadata": {
        "id": "72Z8WgxF8m0C"
      }
    },
    {
      "cell_type": "markdown",
      "source": [
        "Seguindo com nosso exemplo, vamos tentar identificar os outliers da feature **HIV/AIDS** utilizando a técnica de *Inter-quartile Range - IQR* (mais detalhes [aqui](https://www.scribbr.com/statistics/interquartile-range/#:~:text=The%20interquartile%20range%20is%20an,ordered%20from%20low%20to%20high.)), já que não temos uma distribuição gaussiana. "
      ],
      "metadata": {
        "id": "8VAbWW5e_LaA"
      }
    },
    {
      "cell_type": "code",
      "source": [
        "# Detecção de possíveis outliers\n",
        "\n",
        "def possible_outliers(df, ft):\n",
        "  Q1 = df[ft].quantile(0.25)\n",
        "  Q3 = df[ft].quantile(0.75)\n",
        "  IQR = Q3 - Q1\n",
        "\n",
        "  lower_bound = Q1 - 1.5 * IQR\n",
        "  upper_bound = Q3 + 1.5 * IQR\n",
        "\n",
        "  list_indexes_outliers = df.index[ (df[ft] < lower_bound) | (df[ft] > upper_bound) ] \n",
        "\n",
        "  return list_indexes_outliers # retorna uma lista com candidatos a outliers"
      ],
      "metadata": {
        "id": "YQYNAzgM_48S"
      },
      "execution_count": null,
      "outputs": []
    },
    {
      "cell_type": "code",
      "source": [
        "index_list_outliers_candidates = []\n",
        "\n",
        "for feature in ['HIV/AIDS']:\n",
        "  index_list_outliers_candidates.extend(possible_outliers(training_df, feature))\n",
        "\n",
        "print('Nº de possíveis candidatos para outliers da feature HIV/AIDS: {}.'.format(len(index_list_outliers_candidates)))"
      ],
      "metadata": {
        "colab": {
          "base_uri": "https://localhost:8080/"
        },
        "id": "YKMpa7BtA6v4",
        "outputId": "2cfad097-e1a9-4bac-c352-52879c79de68"
      },
      "execution_count": null,
      "outputs": [
        {
          "output_type": "stream",
          "name": "stdout",
          "text": [
            "Nº de possíveis candidatos para outliers da feature HIV/AIDS: 401.\n"
          ]
        }
      ]
    },
    {
      "cell_type": "markdown",
      "source": [
        "Com a técnica adotada, encontramos um valor de 401 candidatos a outliers. Isso nos mostra que claramente os datapoints encontrados **não** são todos outliers, e proceder de modo a remover os samples a eles associados seria um erro, pois representam uma boa porcentagem do conjunto de treinamento. Substituir os valores pela média da coluna também não seria ideal, sob pena de acochambrar o problema."
      ],
      "metadata": {
        "id": "ZjOBGpA7BpYC"
      }
    },
    {
      "cell_type": "markdown",
      "source": [
        "Desse modo, não faremos por enquanto nenhuma remoção de candidatos a outliers. Após executar os algoritmos, porém, caso cheguemos a indicadores muito ruins (*loss* e MSE muito altos), podemos fazer uma revisão desta parte de modo a identificar realmente quais são os outliers, utilizando uma técnica mais sofisticada e adaptada para nossos conjuntos de dados."
      ],
      "metadata": {
        "id": "Jhj_AsiLCyUB"
      }
    },
    {
      "cell_type": "markdown",
      "source": [
        "Por fim, para finalizar essa seção, faremos a seguir a implementação de todas as funções que realizam os tratamentos que discutimos até aqui, com a adição do *scaling* nos conjuntos de treinamento e de teste (não aplicamos o scaling às labels). "
      ],
      "metadata": {
        "id": "53j-HjZfD548"
      }
    },
    {
      "cell_type": "code",
      "source": [
        "# Funções que implementam os tratamentos dos dados\n",
        "\n",
        "y_column_name = \"Life expectancy\"\n",
        "\n",
        "def remove_dots_from_str(value):\n",
        "  \"\"\"\n",
        "  Apenas remove os pontos separadores de milhar de uma string\n",
        "  \"\"\"\n",
        "  if type(value) is float:\n",
        "    return value\n",
        "  else:\n",
        "    return value.replace('.', '')\n",
        "\n",
        "def force_numeric_columns_on_dataset(dataset, column_names):\n",
        "  \"\"\"\n",
        "  Força um tipo numérico para todas as colunas que receber por parâmetro\n",
        "  com o dataset. Isso é necessário pois simplesmente converter o valor célula de\n",
        "  uma célula para um tipo numérico não altera o tipo de dados da coluna.\n",
        "  \"\"\"\n",
        "  numeric_dataset = dataset.copy(deep=False)\n",
        "  converted_dataset_column = None\n",
        "  for column in column_names:\n",
        "    converted_dataset_column = numeric_dataset[column].apply(remove_dots_from_str, convert_dtype=True)\n",
        "    numeric_dataset[column] = pd.to_numeric(converted_dataset_column)\n",
        "  return numeric_dataset\n",
        "\n",
        "def clean_dataset(dataset):\n",
        "  \"\"\"\n",
        "  Implementa operações de limpeza de dados em um dataset de acordo com as \n",
        "  análises realizadas previamente.\n",
        "  \"\"\"\n",
        "  y_column = [y_column_name]\n",
        "  irrelevant_columns = [\"Country\"]\n",
        "  categorical_columns = [\"Status\"]\n",
        "  str_columns_to_numeric = [\"GDP\", \"percentage expenditure\"]\n",
        "  y_cleaned_dataset = dataset.dropna(subset=y_column)\n",
        "  dataset_without_irrelevant_column = y_cleaned_dataset.drop(columns=irrelevant_columns)\n",
        "  one_hot_encoded_dataset = pd.get_dummies(dataset_without_irrelevant_column, columns=categorical_columns)\n",
        "  numeric_dataset = force_numeric_columns_on_dataset(one_hot_encoded_dataset, str_columns_to_numeric)\n",
        "  numeric_dataset_with_all_values = numeric_dataset.fillna(numeric_dataset.mean())\n",
        "  return numeric_dataset_with_all_values\n",
        "\n",
        "def split_x_y_dataset(dataset):\n",
        "  \"\"\"\n",
        "  Particiona um dataset em variáveis independentes e dependentes. O dataframe\n",
        "  de y possui o nome da coluna para qual será realizada a predição, o dataframe\n",
        "  de x possui todas as outras colunas.\n",
        "  \"\"\"\n",
        "  x_dataset = dataset.filter(regex=f\"^(?!{y_column_name})\")\n",
        "  y_dataset = dataset.filter(regex=y_column_name)\n",
        "  return x_dataset, y_dataset\n",
        "\n",
        "def scale_datasets(training_dataset, testing_dataset):\n",
        "  \"\"\"\n",
        "  Realiza o fit nos dados de treino e retorna os datasets de treino e teste\n",
        "  escalados.\n",
        "  \"\"\"\n",
        "  scaler = preprocessing.MinMaxScaler().fit(training_dataset)\n",
        "  scaled_training_array = scaler.transform(training_dataset)\n",
        "  scaled_testing_array = scaler.transform(testing_dataset)\n",
        "  return scaled_training_array, scaled_testing_array\n",
        "\n",
        "def clean_split_and_scale_datasets(training_dataset, testing_dataset):\n",
        "  \"\"\"\n",
        "  Função geral de alto-nível que automatiza todo o processo de pré-processamento\n",
        "  do conjunto de dados de treinamento e teste. Esta função realiza a limpeza dos\n",
        "  datasets, faz o scaling e separa datasets de X e Y.\n",
        "  \"\"\"\n",
        "  cleaned_training_dataset = clean_dataset(training_dataset)\n",
        "  cleaned_testing_dataset = clean_dataset(testing_dataset)\n",
        "\n",
        "  (\n",
        "    x_cleaned_training_dataset, y_cleaned_training_dataset\n",
        "  ) = split_x_y_dataset(cleaned_training_dataset)\n",
        "  \n",
        "  (\n",
        "    x_cleaned_testing_dataset, y_cleaned_testing_dataset\n",
        "  ) = split_x_y_dataset(cleaned_testing_dataset)\n",
        "\n",
        "  ( # aplicar scaling retorna ndarrays ao invés de dataframes\n",
        "    x_scaled_training_dataset, x_scaled_testing_dataset\n",
        "  ) = scale_datasets(x_cleaned_training_dataset, x_cleaned_testing_dataset)\n",
        "\n",
        "  return (\n",
        "    x_scaled_training_dataset,\n",
        "    y_cleaned_training_dataset.to_numpy(),\n",
        "    x_scaled_testing_dataset,\n",
        "    y_cleaned_testing_dataset.to_numpy()\n",
        "  ) #com essa conversão to_numpy(), todas as variáveis ficam no mesmo formato de array\n"
      ],
      "metadata": {
        "id": "bVSOdf7mDE0e"
      },
      "execution_count": null,
      "outputs": []
    },
    {
      "cell_type": "code",
      "source": [
        "# Execução do pré-processamento dos dados de treinamento e teste\n",
        "(\n",
        "  X_train,\n",
        "  y_train,\n",
        "  X_test,\n",
        "  y_test\n",
        ") = clean_split_and_scale_datasets(training_df, testing_df)"
      ],
      "metadata": {
        "id": "rZXVWJKwVIxa"
      },
      "execution_count": null,
      "outputs": []
    },
    {
      "cell_type": "markdown",
      "source": [
        "## **II) Gradiente Descendente Estocástico**\n",
        "\n",
        "Nesta segunda parte, faremos a implementação do Gradiente Descendente Estocástico (SGD), sem utilizar bibliotecas prontas. Ele é um método otimizado para a resolução do problema de regressão linear e polinomial, sendo uma alternativa para os casos em que a solução analítica do problema é inviável (lembremos que a complexidade do cômputo da pseudo-inversa da matriz *X* de samples é $(O(n^3))$."
      ],
      "metadata": {
        "id": "dbOpeZpLGU1z"
      }
    },
    {
      "cell_type": "markdown",
      "source": [
        "Não entraremos nos detalhes de toda a matemática por trás do método, porém faremos uma breve recapitulação."
      ],
      "metadata": {
        "id": "tNxHWODtKlo0"
      }
    },
    {
      "cell_type": "markdown",
      "source": [
        "A **função custo**, que calcula o erro MSE, é dada por:\n",
        "$$\n",
        "J(w)= \\frac{\\sum^{N}_{i = 1}[(\\sum^{d}_{j=0}w_{j}x^{(i)}_{j})-y^{(i)}]^2}{N}\n",
        "$$ onde $w_j$ é a j-ésima entrada do vetor de pesos *w*, $y^{(i)}$ é o valor verdadeiro da i-ésima label, $x^{(i)}_j$ é a j-ésima entrada do i-ésimo vetor/sample, *N* a quantidade de samples do conjunto e *d* o número de features.\n",
        "\n",
        "Portanto, o gradiente calculado em relação a cada peso fica:\n",
        "$$\n",
        "\\frac{\\partial J(w)}{\\partial w_k}=\\frac{2̇\\sum_{i=1}^{N}[(\\sum^{d}_{j=0}w_{j}x^{(i)}_{j})-y^{(i)}]x_k^{(i)}}{N}\n",
        "$$\n",
        "\n",
        "com *k* variando no conjunto de índices das features: {*0, 1, ..., d*}.\n",
        "\n",
        "Porém, no caso do SGD, para cada atualização dos pesos, ao invés de fazer uso de todos os samples no conjunto de dados, é escolhido apenas um de forma aleatória (estamos falando aqui do SGD \"clássico\", diferente do *mini-batch*). Assim, o gradiente fica:\n",
        "\n",
        "$$\n",
        "\\frac{\\partial J(w)}{\\partial w_k}=\\frac{2̇[(\\sum^{d}_{j=0}w_{j}x_{j})-y]x_k}{1}\n",
        "$$\n",
        "\n",
        "Logo, a equação de atualização dos pesos assume a seguinte forma:\n",
        "$$\n",
        "w_k ← w_k - \\alpha\\frac{\\partial J(w)}{\\partial w_k}\n",
        "$$ \n",
        "\n",
        "onde $\\alpha$ é o *learning rate* (taxa de aprendizado)."
      ],
      "metadata": {
        "id": "CODqU-Q0Ndfv"
      }
    },
    {
      "cell_type": "markdown",
      "source": [
        "A seguir, é possível conferir a implementação do SGD."
      ],
      "metadata": {
        "id": "Urs-DmXgZX-f"
      }
    },
    {
      "cell_type": "code",
      "metadata": {
        "id": "VuguYJ1baer1"
      },
      "source": [
        "# TODO: Implemente aqui sua solução SEM utilizar bibliotecas prontas\n",
        "#       como scikit-learn, Keras/TensorFlow, ou PyTorch.\n",
        "\n",
        "from collections import defaultdict\n",
        "\n",
        "rng = np.random.RandomState(0)\n",
        "\n",
        "def mse_loss(y_pred, y_true):\n",
        "  \"\"\"\n",
        "  função custo para utilização no SGD\n",
        "  \"\"\"\n",
        "  return (y_pred - y_true)**2\n",
        "\n",
        "class ErrorHistory:\n",
        "  \"\"\"\n",
        "  ErrorHistory gerencia um dicionário de listas para\n",
        "  permitir análise do histórico de erros.\n",
        "\n",
        "  Cada chave do dicionário é uma época e o valor\n",
        "  de cada chave é uma lista de resultados da função\n",
        "  custo para a época correspondente. Desta maneira é\n",
        "  possível analizar tanto o comportamento da função\n",
        "  custo em determinada época, quanto analizar o erro\n",
        "  quadrático médio para todas as iterações.\n",
        "  \"\"\"\n",
        "  def __init__(self):\n",
        "    self._history = defaultdict(list)\n",
        "\n",
        "  def add(self, epoch, loss_value):\n",
        "    self._history[epoch].append(loss_value)\n",
        "  \n",
        "  def get_all_losses_from_epoch(self, epoch):\n",
        "    \"\"\"\n",
        "    Retorna uma lista com todos os resultados da loss\n",
        "    para determinada época.\n",
        "    \"\"\"\n",
        "    return self._history[epoch]\n",
        "\n",
        "  def get_a_mse_list_for_all_epochs(self):\n",
        "    \"\"\"\n",
        "    Retorna uma lista com o erro quadrático médio computado\n",
        "    para cada época.\n",
        "    \"\"\"\n",
        "    return [\n",
        "            sum(losses_list)/len(losses_list)\n",
        "            for _, losses_list in self._history.items()\n",
        "    ]\n",
        "\n",
        "  def get_all_losses(self):\n",
        "    \"\"\"\n",
        "    Retorna uma lista com a computação da função loss para todas\n",
        "    as iterações.\n",
        "    \"\"\"\n",
        "    whole_losses_list = []\n",
        "    for _, losses_list in self._history.items():\n",
        "      whole_losses_list += losses_list\n",
        "    return whole_losses_list\n",
        "\n",
        "  def calculate_mse(self):\n",
        "    \"\"\"\n",
        "    Calcula o erro quadrático médio para todas as iterações.\n",
        "    \"\"\"\n",
        "    all_losses = self.get_all_losses()\n",
        "    mse = sum(all_losses)/len(all_losses)\n",
        "    return mse\n",
        "\n",
        "  def plot_mse_for_all_epochs(self):\n",
        "    \"\"\"\n",
        "    Plota o erro quadrático médio para cada época, \n",
        "    ao longo de todas as épocas.\n",
        "    \"\"\"\n",
        "    mse_list = self.get_a_mse_list_for_all_epochs()\n",
        "    plt.plot(mse_list)\n",
        "    plt.title(\"MSE for all epochs\")\n",
        "    plt.ylabel('loss')\n",
        "    plt.xlabel('epochs')\n",
        "    plt.show()\n",
        "\n",
        "  def plot_loss_for_epoch(self, epoch):\n",
        "    \"\"\"\n",
        "    Plota o comportamento da função loss para uma época específica.\n",
        "    \"\"\"\n",
        "    loss_list = self.get_all_losses_from_epoch(epoch)\n",
        "    plt.plot(loss_list)\n",
        "    plt.title(\"MSE\")\n",
        "    plt.ylabel('loss')\n",
        "    plt.xlabel('iteration')\n",
        "    plt.show()\n",
        "\n",
        "  def plot_loss(self):\n",
        "    \"\"\"\n",
        "    Plota o comportamento da função loss para todas as iterações.\n",
        "    \"\"\"\n",
        "    loss_list = self.get_all_losses()\n",
        "    plt.plot(loss_list)\n",
        "    plt.title(\"loss function\")\n",
        "    plt.ylabel('loss')\n",
        "    plt.xlabel('iteration')\n",
        "    plt.show()\n",
        "\n",
        "def include_a_column_for_bias(samples):\n",
        "  \"\"\"\n",
        "  Esta função recebe um conjunto de samples (X) e retorna o mesmo conjunto\n",
        "  com uma coluna adicional preenchida por 1's para acomodar o termo Xo.\n",
        "  \"\"\"\n",
        "  number_of_rows = samples.shape[0]\n",
        "  column_of_ones = np.ones(number_of_rows)\n",
        "  resulting_ndarray = np.c_[column_of_ones, samples]\n",
        "  return resulting_ndarray\n",
        "\n",
        "def calculate_mse_for_test_predictions(y_test_pred, y_test_real):\n",
        "  \"\"\"\n",
        "  Calcula o mse para predições de teste ao compará-las com os valores reais.\n",
        "  \"\"\"\n",
        "  error_array = y_test_pred - y_test_real\n",
        "  squared_error_array = error_array**2\n",
        "  mse_array = sum(squared_error_array)/len(squared_error_array)\n",
        "  mse = mse_array[0]\n",
        "  return mse\n",
        "\n",
        "def plot_loss_for_test(y_test_pred, y_test_real):\n",
        "  \"\"\"\n",
        "  Plota o comportamento da função loss para o conjunto de teste.\n",
        "  \"\"\"\n",
        "  loss_list = []\n",
        "  for y_pred_item, y_test_item in zip(y_test_pred, y_test_real):\n",
        "    loss_list.append(mse_loss(y_pred_item, y_test_item))\n",
        "  plt.plot(loss_list)\n",
        "  plt.title(\"loss function for test\")\n",
        "  plt.ylabel('loss')\n",
        "  plt.xlabel('iteration')\n",
        "  plt.show()\n",
        "\n",
        "class SGDRegression():\n",
        "  def __init__(self, learning_rate, epochs):\n",
        "    self.epochs = epochs #maximo de iteracoes em épocas\n",
        "    self.alpha = learning_rate #taxa de aprendizado\n",
        "    self.ws = None     #pesos\n",
        "    self.history = ErrorHistory()\n",
        "\n",
        "  def initialize_ws(self, X):\n",
        "    if self.ws is None:\n",
        "      #inicializando pesos aleatorios\n",
        "      ws = rng.randn(X.shape[1])\n",
        "      self.ws = ws\n",
        "\n",
        "  def predict(self, x_sample):\n",
        "    #use essa função para calcular y a partir de X e ws\n",
        "    y_predict = np.dot(self.ws, x_sample.T)\n",
        "    return y_predict\n",
        "\n",
        "  def update_weights(self, y_pred, target, sample):\n",
        "    #use essa função para atualizar os pesos\n",
        "    self.ws = self.ws - ( 2 * self.alpha * (y_pred - target) * sample )\n",
        "\n",
        "  def fit(self, X, y, verbose=False):\n",
        "    #use essa função para treinar o modelo\n",
        "    X = include_a_column_for_bias(X)\n",
        "    self.initialize_ws(X)\n",
        "    assert X.shape[0] == y.shape[0]\n",
        "\n",
        "    # epoch é a época atual das iterações\n",
        "    for epoch in range(self.epochs):\n",
        "      # para cada nova época, é feito um 'embaralhamento' dos datasets\n",
        "      X, y = shuffle(X, y, random_state = 0)\n",
        "      for index, (sample, target_list) in enumerate(zip(X, y)):\n",
        "        # index é o índice de determinada predição em determinada época\n",
        "        y_target = target_list[0]\n",
        "        y_pred = self.predict(sample)\n",
        "        loss = mse_loss(y_pred, y_target)\n",
        "        self.history.add(epoch, loss)\n",
        "        self.update_weights(y_pred, y_target, sample)\n",
        "        if verbose == True:\n",
        "          print(f\"epoch {epoch} iteration {index} loss {loss}\")\n",
        "\n",
        "  def test(self, x_test):\n",
        "    # alterando a dimensionalidade de ws de (row,) para (row,1)\n",
        "    # para facilitar a multiplicação matricial necessária\n",
        "    # para realizar a predição de todos os samples de uma vez\n",
        "    ws_with_1_dimension = np.reshape(self.ws, (self.ws.shape[0], 1))\n",
        "    x_test_with_bias = include_a_column_for_bias(x_test)\n",
        "\n",
        "    y_test_pred_array = np.dot(x_test_with_bias, ws_with_1_dimension)\n",
        "    \n",
        "    self.y_test_pred_array = y_test_pred_array\n",
        "    return y_test_pred_array\n"
      ],
      "execution_count": null,
      "outputs": []
    },
    {
      "cell_type": "markdown",
      "source": [
        "A seguir, fazemos a execução do algoritmo com um número de épocas = 30 e uma taxa de aprendizado = 0.001."
      ],
      "metadata": {
        "id": "X1ZG9rkncyI4"
      }
    },
    {
      "cell_type": "code",
      "source": [
        "lr = 0.001 #substitua por uma taxa de aprendizado válida\n",
        "epochs = 30 #substitua por um número máximo de iterações válido\n",
        "sgd_linear = SGDRegression(learning_rate=lr, epochs=epochs)\n",
        "sgd_linear.fit(X_train, y_train) #treinamento\n",
        "print('W = ', sgd_linear.ws)"
      ],
      "metadata": {
        "colab": {
          "base_uri": "https://localhost:8080/"
        },
        "id": "Fusf1gnKGbI8",
        "outputId": "3aa37dea-dacb-4677-edb9-31d787784a0e"
      },
      "execution_count": null,
      "outputs": [
        {
          "output_type": "stream",
          "name": "stdout",
          "text": [
            "W =  [ 36.60341894   1.04645738 -15.46254842   1.34286413   1.06950062\n",
            "   0.87430069  -0.91458778  -1.5241651    5.71348449  -1.02659462\n",
            "   3.3815407    1.75155931   4.26951061 -17.91988637   0.11326246\n",
            "   0.63389519   0.73153102   0.72289427   3.14773274  16.57208315\n",
            "  17.41132932  15.52866605]\n"
          ]
        }
      ]
    },
    {
      "cell_type": "code",
      "source": [
        "#Evolução da loss ao longo do tempo\n",
        "sgd_linear_history = sgd_linear.history"
      ],
      "metadata": {
        "id": "KENWt3bBudE1"
      },
      "execution_count": null,
      "outputs": []
    },
    {
      "cell_type": "code",
      "source": [
        "print(f\"O valor do erro MSE para o conjunto de treinamento foi de {sgd_linear_history.calculate_mse()}\")\n",
        "sgd_linear_history.plot_mse_for_all_epochs()\n",
        "sgd_linear_history.plot_loss()"
      ],
      "metadata": {
        "colab": {
          "base_uri": "https://localhost:8080/",
          "height": 590
        },
        "id": "eRGIb9YKwsfr",
        "outputId": "e87b850a-38d2-4d86-f250-bba0980bf31c"
      },
      "execution_count": null,
      "outputs": [
        {
          "output_type": "stream",
          "name": "stdout",
          "text": [
            "O valor do erro MSE para o conjunto de treinamento foi de 32.45960477090004\n"
          ]
        },
        {
          "output_type": "display_data",
          "data": {
            "text/plain": [
              "<Figure size 432x288 with 1 Axes>"
            ],
            "image/png": "[encoded data removed]"
          },
          "metadata": {
            "needs_background": "light"
          }
        },
        {
          "output_type": "display_data",
          "data": {
            "text/plain": [
              "<Figure size 432x288 with 1 Axes>"
            ],
            "image/png": "[encoded data removed]"
          },
          "metadata": {
            "needs_background": "light"
          }
        }
      ]
    },
    {
      "cell_type": "code",
      "source": [
        "#Calcule o MSE no conjunto de testes\n",
        "\n",
        "y_test_pred = sgd_linear.test(X_test)\n",
        "mse_for_test = calculate_mse_for_test_predictions(y_test_pred, y_test)\n",
        "print(f\"O erro MSE para o conjunto de testes foi de {mse_for_test}\")"
      ],
      "metadata": {
        "id": "jKRlMgx8uZcu",
        "colab": {
          "base_uri": "https://localhost:8080/"
        },
        "outputId": "39e4ba0d-d474-430f-e0ce-e2239924df98"
      },
      "execution_count": null,
      "outputs": [
        {
          "output_type": "stream",
          "name": "stdout",
          "text": [
            "O erro MSE para o conjunto de testes foi de 18.037784780323637\n"
          ]
        }
      ]
    },
    {
      "cell_type": "markdown",
      "source": [
        "## **III) Gradiente Descendente Estocástico (via bibliotecas prontas do *Scikit-Learn*)**\n",
        "\n",
        "Faremos agora a implementação do SGD utilizando bibliotecas prontas."
      ],
      "metadata": {
        "id": "I63fTgIzbcWg"
      }
    },
    {
      "cell_type": "code",
      "metadata": {
        "id": "e4nZrMr_C2X7",
        "colab": {
          "base_uri": "https://localhost:8080/"
        },
        "outputId": "a074bd46-e88c-463d-880c-775df245b12d"
      },
      "source": [
        "from sklearn.linear_model import SGDRegressor\n",
        "from sklearn.metrics import mean_squared_error\n",
        "\n",
        "# TODO: Faça a regressão linear com sklearn.\n",
        "\n",
        "#Criando o regressor\n",
        "sklearn_sgd_reg = SGDRegressor(max_iter = 30, tol = 1e-3, shuffle = True, verbose = 0)\n",
        "#treinamento\n",
        "sklearn_sgd_reg.fit(X_train, np.hstack(y_train))\n",
        "score = sklearn_sgd_reg.score(X_train, np.hstack(y_train))\n",
        "print(\"R-squared:\", score)"
      ],
      "execution_count": null,
      "outputs": [
        {
          "output_type": "stream",
          "name": "stdout",
          "text": [
            "R-squared: 0.7204116469438617\n"
          ]
        },
        {
          "output_type": "stream",
          "name": "stderr",
          "text": [
            "/usr/local/lib/python3.7/dist-packages/sklearn/linear_model/_stochastic_gradient.py:1507: ConvergenceWarning: Maximum number of iteration reached before convergence. Consider increasing max_iter to improve the fit.\n",
            "  ConvergenceWarning,\n"
          ]
        }
      ]
    },
    {
      "cell_type": "code",
      "source": [
        "#Calcule o MSE no conjunto de testes\n",
        "\n",
        "sklearn_y_pred = sklearn_sgd_reg.predict(X_test)\n",
        "sklearn_mse = mean_squared_error(y_test, sklearn_y_pred)\n",
        "print(\"sklearn MSE: \", sklearn_mse)\n",
        "print(\"sklearn RMSE: \", sklearn_mse**(1/2.0)) \n",
        "print('sklearn W = ', sklearn_sgd_reg.coef_)\n",
        "\n",
        "plt.plot(y_test, linewidth=1, label=\"original\")\n",
        "plt.plot(sklearn_y_pred, linewidth=1.1, label=\"predicted\")\n",
        "plt.title(\"sklearn SGDRegressor y-test and y-predicted data\")\n",
        "plt.xlabel('samples')\n",
        "plt.ylabel('Life expectancy')\n",
        "plt.legend(loc='best',fancybox=True, shadow=True)\n",
        "plt.grid(True)"
      ],
      "metadata": {
        "id": "VswOZJb3vC_c",
        "colab": {
          "base_uri": "https://localhost:8080/",
          "height": 417
        },
        "outputId": "c5b52c53-e7a7-4861-db1a-ad83ef4d4a0a"
      },
      "execution_count": null,
      "outputs": [
        {
          "output_type": "stream",
          "name": "stdout",
          "text": [
            "sklearn MSE:  22.146334851037544\n",
            "sklearn RMSE:  4.705989253179139\n",
            "sklearn W =  [  1.85070143 -10.16210009   0.50440605   2.6219936    1.67436295\n",
            "   1.64254501  -0.01714059   8.4757474    0.27413341   4.96939657\n",
            "   3.31855455   4.67123096 -10.94264007   0.84054176   0.48846476\n",
            "   1.97472408   2.6383879    5.33193056  14.69695053  15.13223597\n",
            "  13.95518083]\n"
          ]
        },
        {
          "output_type": "display_data",
          "data": {
            "text/plain": [
              "<Figure size 432x288 with 1 Axes>"
            ],
            "image/png": "[encoded data removed]"
          },
          "metadata": {
            "needs_background": "light"
          }
        }
      ]
    },
    {
      "cell_type": "markdown",
      "metadata": {
        "id": "zBNZQNImKQeo"
      },
      "source": [
        "\n",
        ">**Quais são as suas conclusões? (1-2 parágrafos)**"
      ]
    },
    {
      "cell_type": "markdown",
      "source": [
        "A etapa de pré-processamento dos dados é essencial para permitir a aplicação e treinamento do modelo preditivo. Alguns erros nesta etapa podem piorar a qualidade do treinamento ou mesmo inviabilizá-lo por completo. A regressão linear SGD implementada manualmente neste exercício conseguiu convergir para valores de MSE que permanecem razoavelmente próximos dos valores de MSE obtidos pelo SGDRegressor do sklearn, o que nos leva a acreditar que com o tratamento atual de features, o regressor linear implementado se comporta de maneira satisfatória, apesar de aparentemente este modelo linear não ser capaz de descrever o problema com uma precisão muito alta.\n",
        "</br></br>\n",
        "O erro do regressor linear está relacionado aos valores da taxa de aprendizagem e número de iterações. Caso a taxa de aprendizagem seja muito alta, ele sofre problema de overshooting e o MSE não converge para um valor mínimo, por outro lado, caso a taxa de aprendizagem seja muito baixa, ele pode requerer um número de iterações muito maior para convergir."
      ],
      "metadata": {
        "id": "E2Oy5Js7dgbA"
      }
    },
    {
      "cell_type": "markdown",
      "metadata": {
        "id": "ADxPBRhuK_Vq"
      },
      "source": [
        "2. (2 points) Treine o modelo de regressão linear otimizado com Gradiente Descendente (GD) com 3 taxas de aprendizado diferentes. Compare os resultados dos modelos de GD com a solução com a equação normal (pseudo-inversa). "
      ]
    },
    {
      "cell_type": "markdown",
      "source": [
        "## **IV) SGD com diferentes taxas de aprendizagem**\n",
        "\n",
        "Nesta seção, aplicaremos o SGD otimizado aos datasets e observaremos seu comportamento para 3 taxas diferentes de aprendizagem, mantendo fixo o número de épocas."
      ],
      "metadata": {
        "id": "34dUX4_viJM6"
      }
    },
    {
      "cell_type": "code",
      "metadata": {
        "id": "RSZ1pLItNVbU",
        "colab": {
          "base_uri": "https://localhost:8080/"
        },
        "outputId": "16f97a8a-af2d-4105-dcd1-508443d66be1"
      },
      "source": [
        "# TODO: Gradiente Descendente (GD) com 3 taxas de aprendizado diferentes. \n",
        "\n",
        "lr1 = 0.0001 #substitua por uma taxa de aprendizado válida\n",
        "epochs_1 = 30 #substitua por um número máximo de iterações válido\n",
        "sgd_linear_lr1 = SGDRegression(learning_rate=lr1, epochs=epochs_1)\n",
        "sgd_linear_lr1.fit(X_train, y_train) #treinamento\n",
        "print('Taxa de aprendizado lr1 = ', lr1)\n",
        "print('lr1 W = ', sgd_linear_lr1.ws)\n",
        "print('\\n')\n",
        "\n",
        "lr2 = 0.01 #substitua por uma taxa de aprendizado válida\n",
        "epochs_2 = 30 #substitua por um número máximo de iterações válido\n",
        "sgd_linear_lr2 = SGDRegression(learning_rate=lr2, epochs=epochs_2)\n",
        "sgd_linear_lr2.fit(X_train, y_train) #treinamento\n",
        "print('Taxa de aprendizado lr2 = ', lr2)\n",
        "print('lr2 W = ', sgd_linear_lr2.ws)\n",
        "print('\\n')\n",
        "\n",
        "lr3 = 0.1 #substitua por uma taxa de aprendizado válida\n",
        "epochs_3 = 30 #substitua por um número máximo de iterações válido\n",
        "sgd_linear_lr3 = SGDRegression(learning_rate=lr3, epochs=epochs_3)\n",
        "sgd_linear_lr3.fit(X_train, y_train) #treinamento\n",
        "print('Taxa de aprendizado lr3 = ', lr3)\n",
        "print('lr3 W = ', sgd_linear_lr3.ws)"
      ],
      "execution_count": null,
      "outputs": [
        {
          "output_type": "stream",
          "name": "stdout",
          "text": [
            "Taxa de aprendizado lr1 =  0.0001\n",
            "lr1 W =  [19.28872108  4.01879089 -0.40138616 -1.01219644  5.14779683  3.17160512\n",
            "  7.72711125  1.66773814  9.61835511  0.75954905  7.97020544  3.13786944\n",
            "  7.98417784 -3.29093001  2.48400364  1.50327043  1.81023344  2.0867508\n",
            "  8.21061664  9.66189182  9.42016125  9.24862883]\n",
            "\n",
            "\n",
            "Taxa de aprendizado lr2 =  0.01\n",
            "lr2 W =  [ 38.37374779  -0.2297077  -16.01126582   2.05644535   0.70321106\n",
            "   0.5426212   -2.38277564  -6.9254507    4.47898956  -5.39407594\n",
            "   2.59120835   0.26864105   4.34620515 -23.98236719   0.09505008\n",
            "   2.22167803  -1.85578359   2.49523007   1.97269075  16.61369986\n",
            "  20.47795988  18.1810853 ]\n",
            "\n",
            "\n",
            "Taxa de aprendizado lr3 =  0.1\n",
            "lr3 W =  [ 42.53806002  -6.58194588  -9.38039234  22.98331759  -0.57583163\n",
            "   0.46619749  -4.59966206  -5.57320729   5.60890911 -28.25750911\n",
            "   1.26167283  -2.04852486   2.05211931 -22.80843542  -6.392719\n",
            "   3.31910558  -0.81287314   4.43726904   3.65916703  19.15065815\n",
            "  23.65939137  21.50772173]\n"
          ]
        }
      ]
    },
    {
      "cell_type": "code",
      "source": [
        "# Calcule e compare o MSE no conjunto de testes para cada modelo\n",
        "\n",
        "y_test_pred_lr1 = sgd_linear_lr1.test(X_test)\n",
        "mse_for_test_lr1 = calculate_mse_for_test_predictions(y_test_pred_lr1, y_test)\n",
        "print(f\"O MSE para o conjunto de testes com lr1 é {mse_for_test_lr1}\")\n",
        "\n",
        "y_test_pred_lr2 = sgd_linear_lr2.test(X_test)\n",
        "mse_for_test_lr2 = calculate_mse_for_test_predictions(y_test_pred_lr2, y_test)\n",
        "print(f\"O MSE para o conjunto de testes com lr2 é {mse_for_test_lr2}\")\n",
        "\n",
        "y_test_pred_lr3 = sgd_linear_lr3.test(X_test)\n",
        "mse_for_test_lr3 = calculate_mse_for_test_predictions(y_test_pred_lr3, y_test)\n",
        "print(f\"O MSE para o conjunto de testes com lr3 é {mse_for_test_lr3}\")"
      ],
      "metadata": {
        "id": "bCPSK-5Tr68p",
        "colab": {
          "base_uri": "https://localhost:8080/"
        },
        "outputId": "a55e455a-9ccc-458b-bede-46a98830635f"
      },
      "execution_count": null,
      "outputs": [
        {
          "output_type": "stream",
          "name": "stdout",
          "text": [
            "O MSE para o conjunto de testes com lr1 é 41.50374688846627\n",
            "O MSE para o conjunto de testes com lr2 é 18.029299058394162\n",
            "O MSE para o conjunto de testes com lr3 é 33.5867395584132\n"
          ]
        }
      ]
    },
    {
      "cell_type": "markdown",
      "source": [
        "## **V) Solução analítica via equação normal**\n",
        "\n",
        "Implementamos aqui a solução analítica do problema, que consiste na resolução literal da equação normal utilizada para obter o vetor de pesos *w*. Trata-se da equação a seguir:\n",
        "$$\n",
        "w = (X^TX)^{-1}X^Ty\n",
        "$$\n",
        "onde a expressão que acompanha o termo *y* no segundo membro da equação é conhecida como a pseudo-inversa da matriz *X*. Assumimos que a matriz *X* é **simétrica** e **positiva definida**.\n"
      ],
      "metadata": {
        "id": "jMUde_wPiGC5"
      }
    },
    {
      "cell_type": "code",
      "source": [
        "# TODO: Implemente aqui sua solução para regressão linear com equação normal\n",
        "\n",
        "class NERegression():\n",
        "  def __init__(self):\n",
        "    self.ws = None #pesos\n",
        "  \n",
        "  def predict(self, X):\n",
        "    # Use essa função para calcular y a partir de X e ws. \n",
        "    # Não esqueça de adicionar o bias.\n",
        "    X_test_with_bias = include_a_column_for_bias(X)\n",
        "    w_transposed = np.transpose(self.ws)\n",
        "    y_predictions = []\n",
        "\n",
        "    for x_test_item in X_test_with_bias:\n",
        "      y_prediction_item = np.matmul(w_transposed, x_test_item)\n",
        "      y_predictions.append(y_prediction_item)\n",
        "    self.y_predictions = y_predictions\n",
        "\n",
        "  def calculate_mse(self, y_real):\n",
        "    losses_list = []\n",
        "    for y_prediction_item, y_real_item in zip(self.y_predictions, y_real):\n",
        "      losses_list.append(mse_loss(y_prediction_item, y_real_item))\n",
        "    mse_array = sum(losses_list)/len(losses_list)\n",
        "    mse = mse_array[0]\n",
        "    return mse\n",
        "\n",
        "  def fit(self, X, y):\n",
        "    #Use essa função para calcular a matriz de pesos com a equação normal\n",
        "    X_train_with_bias = include_a_column_for_bias(X)\n",
        "    pseudo_inverse_of_X = np.linalg.pinv(X_train_with_bias)\n",
        "    self.ws = np.matmul(pseudo_inverse_of_X, y)\n"
      ],
      "metadata": {
        "id": "bOsDG8Kge3x_"
      },
      "execution_count": null,
      "outputs": []
    },
    {
      "cell_type": "code",
      "source": [
        "#TODO: Calcule o modelo de regressão linear utilizando equação normal\n",
        "\n",
        "ne = NERegression()\n",
        "ne.fit(X_train, y_train)\n",
        "print(\"W = \", ne.ws)"
      ],
      "metadata": {
        "id": "hqNlsGU1hZIp",
        "colab": {
          "base_uri": "https://localhost:8080/"
        },
        "outputId": "f20e813c-80bc-4e70-dfaa-1213736287fb"
      },
      "execution_count": null,
      "outputs": [
        {
          "output_type": "stream",
          "name": "stdout",
          "text": [
            "W =  [[ 2.05137596e+12]\n",
            " [ 7.96849254e-01]\n",
            " [-1.59847617e+01]\n",
            " [ 1.87705372e+02]\n",
            " [ 1.50225766e+00]\n",
            " [ 6.14466653e-01]\n",
            " [-1.73162917e+00]\n",
            " [-5.31992747e+00]\n",
            " [ 4.05072739e+00]\n",
            " [-1.94281693e+02]\n",
            " [ 2.18015979e+00]\n",
            " [ 2.56800466e-01]\n",
            " [ 3.84040423e+00]\n",
            " [-2.34903214e+01]\n",
            " [-1.71511077e-01]\n",
            " [ 5.27216456e-03]\n",
            " [-1.97554287e+00]\n",
            " [ 1.75631936e+00]\n",
            " [ 2.19853699e+00]\n",
            " [ 1.59680696e+01]\n",
            " [-2.05137596e+12]\n",
            " [-2.05137596e+12]]\n"
          ]
        }
      ]
    },
    {
      "cell_type": "code",
      "source": [
        "# Calcule o MSE no conjunto de testes\n",
        "\n",
        "ne.predict(X_test)\n",
        "ne_mse = ne.calculate_mse(y_test)\n",
        "print(f\"O valor do MSE via equação normal no conjunto de teste é: {ne_mse}\")"
      ],
      "metadata": {
        "id": "ZFS1xpPui2rj",
        "colab": {
          "base_uri": "https://localhost:8080/"
        },
        "outputId": "c96f9040-d817-4132-e060-b2ac29ca76ef"
      },
      "execution_count": null,
      "outputs": [
        {
          "output_type": "stream",
          "name": "stdout",
          "text": [
            "O valor do MSE via equação normal no conjunto de teste é: 16.882166767964062\n"
          ]
        }
      ]
    },
    {
      "cell_type": "markdown",
      "source": [
        "> **Quais são as suas conclusões? (1-2 parágrafos):**\n"
      ],
      "metadata": {
        "id": "hrDXPt7mhj9z"
      }
    },
    {
      "cell_type": "markdown",
      "source": [
        "A implementação que utiliza equação normal é a que rotineiramente possui MSE mais baixo entre os regressores lineares implementados até o momento, como seria de se esperar, por ser uma solução analítica: é a solução literal de uma equação que resolve o problema (de maneira aprpoximada, obviamente). Entretanto, os melhores valores de MSE dos outros regressores estão rotineiramente próximos do valor obtido com a equação normal, o que indica que a solução por otimização proporcionada pelo SGD também é muito boa.\n",
        "</br></br>\n",
        "Como mencionado na questão anterior, a taxa de aprendizagem e o número de iterações é crítico para o resultado final do regressor linear. Taxas de aprendizado muito altas como utilizado no regressor **lr3** fatalmente não convergem para MSE mínimos (e pior, podem levar a casos de overshooting). Por outro lado, taxas de aprendizagem muito baixas como o **lr1** podem fazer com que o modelo demore muito para convergir, como demonstrado na comparação entre taxas com o mesmo número de iterações. Encontramos taxas razoavelmente boas para o número de iterações fixado em 30 épocas com **lr2** e a taxa utilizada pelo **sgd_linear** que obtiveram MSE's próximos da equação normal e da SGDRegressor do sklearn."
      ],
      "metadata": {
        "id": "phiYssaxovH6"
      }
    },
    {
      "cell_type": "markdown",
      "metadata": {
        "id": "XrPl7jKgJPW6"
      },
      "source": [
        "3. (2 points) Às vezes, funções mais complexas geram melhores predições. Desenvolva e avalie um modelo de regressão polinomial.\n",
        "\n"
      ]
    },
    {
      "cell_type": "markdown",
      "source": [
        "## **VI) Regressão Polinomial**\n",
        "Nesta última seção, trabalharemos o problema utilizando um modelo polinomial."
      ],
      "metadata": {
        "id": "wU4T1OP6o365"
      }
    },
    {
      "cell_type": "code",
      "metadata": {
        "id": "GjGbg41PMHR9"
      },
      "source": [
        "# TODO: Implemente aqui sua função para gerar um modelo de regressão polinomial.\n",
        "#       Não utilize bibliotecas prontas como scikit-learn, Keras/TensorFlow, ou PyTorch.\n",
        "\n",
        "# ATUALIZAÇÃO: Nesta implementação utilizaremos PolynomialFeatures como \n",
        "# autorizado pelo monitor Décio.\n",
        "\n",
        "from sklearn.preprocessing import PolynomialFeatures\n",
        "\n",
        "class PolyFeatures():\n",
        "    def __init__(self, degree):\n",
        "      self.degree = degree #grau da nova matriz X\n",
        "      self.poly = PolynomialFeatures(degree=degree)\n",
        "\n",
        "    def transform(self, X):\n",
        "      #use essa função para gerar a nova matriz X\n",
        "      self.X_poly = self.poly.fit_transform(X)\n",
        "      return self.X_poly"
      ],
      "execution_count": null,
      "outputs": []
    },
    {
      "cell_type": "code",
      "source": [
        "degree = 3 #escolha o grau da regressão polinomial\n",
        "poly_feat = PolyFeatures(degree)\n",
        "X_train_poly = poly_feat.transform(X_train)"
      ],
      "metadata": {
        "id": "i4Ayb9A4vh-e"
      },
      "execution_count": null,
      "outputs": []
    },
    {
      "cell_type": "code",
      "source": [
        "lr = 0.001 #substitua por uma taxa de aprendizado válida\n",
        "max_iter = 30 #substitua por um número máximo de iterações válido\n",
        "sgd_poly = SGDRegression(learning_rate=lr, epochs=max_iter)\n",
        "sgd_poly.fit(X_train_poly, y_train) #treinamento\n",
        "print('W = ', sgd_poly.ws)"
      ],
      "metadata": {
        "id": "SXE-I3KFx5Qe",
        "colab": {
          "base_uri": "https://localhost:8080/"
        },
        "outputId": "dfe8c3e7-2a5b-412f-fd1b-9c7a9bf8a357"
      },
      "execution_count": null,
      "outputs": [
        {
          "output_type": "stream",
          "name": "stdout",
          "text": [
            "W =  [10.0420591  12.16726345  0.92759391 ...  1.71083658  1.41441504\n",
            "  6.11386617]\n"
          ]
        }
      ]
    },
    {
      "cell_type": "code",
      "source": [
        "#Evolução da loss ao longo do tempo\n",
        "print(f\"O MSE encontrado via regressão polinomial foi de {sgd_poly.history.calculate_mse()}\")\n",
        "sgd_poly.history.plot_loss()"
      ],
      "metadata": {
        "id": "5iknRtHe05gB",
        "colab": {
          "base_uri": "https://localhost:8080/",
          "height": 312
        },
        "outputId": "ab2b5bfc-25e9-4508-f518-7b39daf28e83"
      },
      "execution_count": null,
      "outputs": [
        {
          "output_type": "stream",
          "name": "stdout",
          "text": [
            "O MSE encontrado via regressão polinomial foi de 17.34382653581418\n"
          ]
        },
        {
          "output_type": "display_data",
          "data": {
            "text/plain": [
              "<Figure size 432x288 with 1 Axes>"
            ],
            "image/png": "[encoded data removed]"
          },
          "metadata": {
            "needs_background": "light"
          }
        }
      ]
    },
    {
      "cell_type": "code",
      "source": [
        "X_test_poly = poly_feat.transform(X_test)\n",
        "y_test_pred_poly = sgd_poly.test(X_test_poly)\n",
        "mse_for_test_poly = calculate_mse_for_test_predictions(y_test_pred_poly, y_test)\n",
        "print(f\"O erro MSE para o conjunto de testes via regressão polinomial foi de {mse_for_test_poly}\")"
      ],
      "metadata": {
        "colab": {
          "base_uri": "https://localhost:8080/"
        },
        "id": "3Lcrn5EBVZwm",
        "outputId": "6b615d56-c79f-48e3-ad78-f9ced74454cf"
      },
      "execution_count": null,
      "outputs": [
        {
          "output_type": "stream",
          "name": "stdout",
          "text": [
            "O erro MSE para o conjunto de testes via regressão polinomial foi de 12.126263209706485\n"
          ]
        }
      ]
    },
    {
      "cell_type": "markdown",
      "metadata": {
        "id": "rBLKtosaLaCw"
      },
      "source": [
        "\n",
        " > **Quais as suas conclusões?(1-2 parágrafos):**\n",
        "\n",
        " \n"
      ]
    },
    {
      "cell_type": "markdown",
      "source": [
        "O MSE para o conjunto de treinamento da regressão polinomial, utilizando um polinômio de grau 3, manteve-se consistentemente abaixo dos valores de todos os outros modelos de regressão linear implementados, o que pode indicar que este problema pode ser melhor descrito por um modelo polinomial mais complexo do que os modelos lineares mais simples implementados inicialmente.\n",
        "</br></br>\n",
        "O tamanho da matriz de features gerada para modelos polinomiais mais complexos cresce de maneira muito rápida se comparada com os modelos lineares que manterão seu tamanho constante, o que pode exigir recursos computacionais mais intensos, sem contar que modelos excessivamente complexos para o dataset em questão pode levá-lo a sofrer overfiting."
      ],
      "metadata": {
        "id": "U_w7b3mTr-A4"
      }
    },
    {
      "cell_type": "markdown",
      "metadata": {
        "id": "ldSh1vtWK5Zk"
      },
      "source": [
        "4. (1 point) Avalie os gráficos da função de custo vs. número de iterações no conjunto de treino. Quais conclusões você pode chegar a respeito dos modelos de GD ao analisar os gráficos?"
      ]
    },
    {
      "cell_type": "code",
      "metadata": {
        "id": "mg7aNkl_LG4P",
        "colab": {
          "base_uri": "https://localhost:8080/",
          "height": 312
        },
        "outputId": "a8a1e1a7-5e8b-4883-820f-bd85c37afca7"
      },
      "source": [
        "print('Função de custo vs. nº de iterações GD linear')\n",
        "sgd_linear.history.plot_loss()"
      ],
      "execution_count": null,
      "outputs": [
        {
          "output_type": "stream",
          "name": "stdout",
          "text": [
            "Função de custo vs. nº de iterações GD linear\n"
          ]
        },
        {
          "output_type": "display_data",
          "data": {
            "text/plain": [
              "<Figure size 432x288 with 1 Axes>"
            ],
            "image/png": "[encoded data removed]"
          },
          "metadata": {
            "needs_background": "light"
          }
        }
      ]
    },
    {
      "cell_type": "code",
      "source": [
        "print('Função de custo vs. nº de iterações GD linear com taxa de aprendizado =  ', lr1)\n",
        "sgd_linear_lr1.history.plot_loss()"
      ],
      "metadata": {
        "id": "3lPon5K2KDE-",
        "colab": {
          "base_uri": "https://localhost:8080/",
          "height": 312
        },
        "outputId": "5248d23b-3c10-4dbf-c375-1452755995dc"
      },
      "execution_count": null,
      "outputs": [
        {
          "output_type": "stream",
          "name": "stdout",
          "text": [
            "Função de custo vs. nº de iterações GD linear com taxa de aprendizado =   0.0001\n"
          ]
        },
        {
          "output_type": "display_data",
          "data": {
            "text/plain": [
              "<Figure size 432x288 with 1 Axes>"
            ],
            "image/png": "[encoded data removed]"
          },
          "metadata": {
            "needs_background": "light"
          }
        }
      ]
    },
    {
      "cell_type": "code",
      "source": [
        "print('Função de custo vs. nº de iterações GD linear com taxa de aprendizado =  ', lr2)\n",
        "sgd_linear_lr2.history.plot_loss()"
      ],
      "metadata": {
        "id": "S5zm8CwbKIz_",
        "colab": {
          "base_uri": "https://localhost:8080/",
          "height": 312
        },
        "outputId": "0a52075f-4287-468c-cf56-c8385ba201fa"
      },
      "execution_count": null,
      "outputs": [
        {
          "output_type": "stream",
          "name": "stdout",
          "text": [
            "Função de custo vs. nº de iterações GD linear com taxa de aprendizado =   0.01\n"
          ]
        },
        {
          "output_type": "display_data",
          "data": {
            "text/plain": [
              "<Figure size 432x288 with 1 Axes>"
            ],
            "image/png": "[encoded data removed]"
          },
          "metadata": {
            "needs_background": "light"
          }
        }
      ]
    },
    {
      "cell_type": "code",
      "source": [
        "print('Função de custo vs. nº de iterações GD linear com taxa de aprendizado =  ', lr3)\n",
        "sgd_linear_lr3.history.plot_loss()"
      ],
      "metadata": {
        "id": "q4D-O0TeKMQb",
        "colab": {
          "base_uri": "https://localhost:8080/",
          "height": 312
        },
        "outputId": "8689e55e-da7b-4788-e7a1-a82213264172"
      },
      "execution_count": null,
      "outputs": [
        {
          "output_type": "stream",
          "name": "stdout",
          "text": [
            "Função de custo vs. nº de iterações GD linear com taxa de aprendizado =   0.1\n"
          ]
        },
        {
          "output_type": "display_data",
          "data": {
            "text/plain": [
              "<Figure size 432x288 with 1 Axes>"
            ],
            "image/png": "[encoded data removed]"
          },
          "metadata": {
            "needs_background": "light"
          }
        }
      ]
    },
    {
      "cell_type": "code",
      "source": [
        "print('Função de custo vs. nº de iterações GD Polinomial')\n",
        "sgd_poly.history.plot_loss()"
      ],
      "metadata": {
        "id": "kh1waz6y4MbV",
        "colab": {
          "base_uri": "https://localhost:8080/",
          "height": 312
        },
        "outputId": "7aa067b5-a229-442f-9336-2be0f9650656"
      },
      "execution_count": null,
      "outputs": [
        {
          "output_type": "stream",
          "name": "stdout",
          "text": [
            "Função de custo vs. nº de iterações GD Polinomial\n"
          ]
        },
        {
          "output_type": "display_data",
          "data": {
            "text/plain": [
              "<Figure size 432x288 with 1 Axes>"
            ],
            "image/png": "[encoded data removed]"
          },
          "metadata": {
            "needs_background": "light"
          }
        }
      ]
    },
    {
      "cell_type": "markdown",
      "metadata": {
        "id": "vbGOQzcsNSOm"
      },
      "source": [
        "> **Escreva aqui suas conclusões (2-4 parágrafos)**\n"
      ]
    },
    {
      "cell_type": "markdown",
      "source": [
        "Ao analisar o comportamento da função custo no tempo (número de iterações), o que salta aos olhos, de início, é a grande variabilidade que ela apresenta. A descida do erro MSE não é feita de forma suave, de modo que a função apresenta picos muito elevados e muito baixos. Isso já era de se esperar, dada a implementação escolhida para o gradiente descendente: como se trata do modelo estocástico, cada ponto é escolhido de forma aleatória, causando uma variabilidade maior nas perdas, pois ora pode ser muito pequena, ora bem maior dependendo da localização do datapoint.\n"
      ],
      "metadata": {
        "id": "paNxqlHnfA5N"
      }
    },
    {
      "cell_type": "markdown",
      "source": [
        "Percebemos também que após um certo número de iterações (que se reflete também no número de épocas), o valor da perda se estabiliza e não apresenta melhoras a partir daí. Não avaliamos os modelos para um número exorbitante de épocas, porém fica um *disclaimer* de que isso poderia ter causado sérios problemas (fazer com que o modelo treinado fique especializado demais para o conjunto de treinamento, perdendo sua capacidade de generalizar para dados fora desse conjunto - ou seja, um caso de overfiting)."
      ],
      "metadata": {
        "id": "OwGCsh4Lhutf"
      }
    },
    {
      "cell_type": "markdown",
      "source": [
        "Quanto às taxas de aprendizado, averiguamos aquilo que já vimos anteriormente: dependendo de seu valor (combinado ao número de épocas), ajuda o modelo a convergir mais rapidamente, e afeta também a variabilidade da função custo."
      ],
      "metadata": {
        "id": "vt2VqcOUiCV-"
      }
    },
    {
      "cell_type": "markdown",
      "source": [
        "De modo geral, o que concluímos é que todos os métodos conduziram a modelos razoavelmente satisfatórios para o problema: todos convergiram e não foram vistos exageros para os erros MSE encontrados (quando seus parâmetros são ajustados de forma adequada, é claro). Para melhorias futuras, podemos incluir aqui o estudo de novas combinações para a regressão polinomial e fazer um data-split no conjunto de treinamento, separando uma parte deste para validação, na tentativa de conseguir calibrar ainda mais o vetor de pesos para que o modelo consiga generalizar bem. Além disso, uma análise sistemátca dos outliers também é uma boa opção."
      ],
      "metadata": {
        "id": "9LE5JaC-iu8G"
      }
    },
    {
      "cell_type": "markdown",
      "metadata": {
        "id": "kdSGS4brHnAi"
      },
      "source": [
        "## Prazo: 24 de Abril, Domingo, 23:59\n",
        "\n",
        "Política de penalidade para submissões atrasadas: Você não está sendo encorajada(o) a submeter o trabalho depois da data de submissão. Entretanto, caso isso aconteça, a nota será penalizada da seguinte forma:\n",
        "\n",
        "- 25 de Abril 23:59 : nota * 0.75\n",
        "- 26 de Abril 23:59 : nota * 0.5\n",
        "- 27 de Abril 23:59 : nota * 0.25\n"
      ]
    },
    {
      "cell_type": "markdown",
      "metadata": {
        "id": "joN9pvZJIfW5"
      },
      "source": [
        "## Submissão\n",
        "- Submita seu notebook no Google Classroom. (Em português ou inglês).\n",
        "\n",
        "- Apenas UMA pessoa da dupla precisa enviar o notebook.\n",
        "\n",
        "- Não esqueça de colocar seus respectivos nomes & RAs.\n",
        "\n",
        "- **Esta atividade NÃO é individual, deve ser realizada em dupla.**"
      ]
    }
  ]
}